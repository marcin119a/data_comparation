{
 "cells": [
  {
   "cell_type": "code",
   "execution_count": 1,
   "id": "7598daae-bca3-4993-a064-6d2103a20069",
   "metadata": {},
   "outputs": [
    {
     "name": "stdout",
     "output_type": "stream",
     "text": [
      "    Unnamed: 0  PD3851a  PD3890a  PD3904a  PD3905a  PD3945a  PD3989a  PD4005a  \\\n",
      "0          NaN       29       99      114       88      235       19       67   \n",
      "1          NaN       30       83      106       66      155       25       61   \n",
      "2          NaN        7        5       10        8       20        6        9   \n",
      "3          NaN       18       83      103       64      151       19       62   \n",
      "4          NaN       21      102       98       81      195       21       63   \n",
      "..         ...      ...      ...      ...      ...      ...      ...      ...   \n",
      "91         NaN       10       44       22       26       51       21       28   \n",
      "92         NaN        5       38       22       23       53        4       26   \n",
      "93         NaN        4       25       19       13       49        7       18   \n",
      "94         NaN        7       44       29       30       83        7       32   \n",
      "95         NaN       14       71       48       52      119       21       48   \n",
      "\n",
      "    PD4006a  PD4069a  ...  PD7219a  PD7221a  PD7321a  PD7404a  PD7409a  \\\n",
      "0       186       56  ...       50       10      105      156      163   \n",
      "1       159       20  ...       29       14       72      153       87   \n",
      "2        25        3  ...        1        3        5       24       16   \n",
      "3       187       22  ...       29       16       78      135       98   \n",
      "4       171       35  ...       50       14       75      177      126   \n",
      "..      ...      ...  ...      ...      ...      ...      ...      ...   \n",
      "91       48        4  ...       36        3       57       85       96   \n",
      "92       51        4  ...       14        5       33       76       56   \n",
      "93       38        2  ...       16        5       29       47       28   \n",
      "94       82        2  ...       19        8       52       82       42   \n",
      "95      120       17  ...       28       13       60      151      120   \n",
      "\n",
      "    PD7431a  PD7433a  PD8618a  PD8622a  PD8623a  \n",
      "0        17       12       17        9       11  \n",
      "1        35       30       12        9       14  \n",
      "2         7        8        3        1        3  \n",
      "3        20       10       16       17       16  \n",
      "4        50       16       14       32       28  \n",
      "..      ...      ...      ...      ...      ...  \n",
      "91       15        7        0       10        4  \n",
      "92       10        7        5       15        8  \n",
      "93        8        5        3        6        7  \n",
      "94        6        6        6       10        9  \n",
      "95       35       18       12       18       28  \n",
      "\n",
      "[96 rows x 120 columns]\n"
     ]
    }
   ],
   "source": [
    "import pandas as pd\n",
    "\n",
    "df = pd.read_csv('/home/amso/Documents/data_comparation/benchmark_2_output/data/counts_119breast.csv')\n",
    "print(df)"
   ]
  },
  {
   "cell_type": "code",
   "execution_count": null,
   "id": "07bec0ed-1320-40c7-8851-029514ef54f8",
   "metadata": {},
   "outputs": [],
   "source": []
  }
 ],
 "metadata": {
  "kernelspec": {
   "display_name": "Python 3 (ipykernel)",
   "language": "python",
   "name": "python3"
  },
  "language_info": {
   "codemirror_mode": {
    "name": "ipython",
    "version": 3
   },
   "file_extension": ".py",
   "mimetype": "text/x-python",
   "name": "python",
   "nbconvert_exporter": "python",
   "pygments_lexer": "ipython3",
   "version": "3.10.12"
  }
 },
 "nbformat": 4,
 "nbformat_minor": 5
}
