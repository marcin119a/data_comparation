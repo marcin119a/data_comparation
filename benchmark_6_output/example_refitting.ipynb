{
 "cells": [
  {
   "cell_type": "markdown",
   "metadata": {},
   "source": [
    "<h1 id=\"tocheading\">Table of Contents</h1>\n",
    "<div id=\"toc\"></div>"
   ]
  },
  {
   "cell_type": "code",
   "execution_count": 1,
   "metadata": {
    "ExecuteTime": {
     "end_time": "2024-04-08T12:42:37.795322Z",
     "start_time": "2024-04-08T12:42:37.791803Z"
    }
   },
   "outputs": [
    {
     "data": {
      "text/plain": "<IPython.core.display.Javascript object>",
      "application/javascript": "$.getScript('https://kmahelona.github.io/ipython_notebook_goodies/ipython_notebook_toc.js')\n"
     },
     "metadata": {},
     "output_type": "display_data"
    }
   ],
   "source": [
    "%%javascript\n",
    "$.getScript('https://kmahelona.github.io/ipython_notebook_goodies/ipython_notebook_toc.js')"
   ]
  },
  {
   "cell_type": "code",
   "execution_count": 2,
   "metadata": {
    "ExecuteTime": {
     "end_time": "2024-04-08T12:42:37.820719Z",
     "start_time": "2024-04-08T12:42:37.796088Z"
    }
   },
   "outputs": [],
   "source": [
    "# Import some necessary modules\n",
    "%matplotlib inline\n",
    "import numpy as np\n",
    "import scipy.stats as stats\n",
    "import matplotlib.pyplot as plt\n",
    "import seaborn as sns\n",
    "import matplotlib as mpl\n",
    "import pandas as pd\n",
    "import time\n",
    "import scipy as sp\n",
    "import pickle\n",
    "%load_ext autoreload\n",
    "%autoreload 2"
   ]
  },
  {
   "cell_type": "code",
   "execution_count": 3,
   "metadata": {
    "ExecuteTime": {
     "end_time": "2024-04-08T12:42:38.022396Z",
     "start_time": "2024-04-08T12:42:37.823353Z"
    }
   },
   "outputs": [],
   "source": [
    "# Import MuSiCal\n",
    "import musical"
   ]
  },
  {
   "cell_type": "code",
   "execution_count": 5,
   "metadata": {
    "ExecuteTime": {
     "end_time": "2024-04-08T12:42:45.759602Z",
     "start_time": "2024-04-08T12:42:45.694722Z"
    }
   },
   "outputs": [],
   "source": [
    "W = pd.read_csv('./data/data_for_deconstructSigs.csv', index_col=0, sep='\\t')\n"
   ]
  },
  {
   "cell_type": "code",
   "execution_count": 6,
   "metadata": {
    "ExecuteTime": {
     "end_time": "2024-04-08T12:42:46.363429Z",
     "start_time": "2024-04-08T12:42:46.333005Z"
    }
   },
   "outputs": [
    {
     "data": {
      "text/plain": "         Type    0   1   2   3   4    5   6   7   8   9  ...  1190  1191  \\\nA[C>A]A         66  83  88  78  90   46  73  72  86  88  ...   133    87   \nA[C>A]C         35  40  46  80  48   32  71  51  40  58  ...    53    45   \nA[C>A]G          7   3  10   6   6   10   7  12   5  18  ...     7    10   \nA[C>A]T         38  43  39  49  39   35  50  25  39  42  ...    62    39   \nA[C>G]A         37  76  35  75  57   89  59  43  30  43  ...    30    28   \n...            ...  ..  ..  ..  ..  ...  ..  ..  ..  ..  ...   ...   ...   \nT[T>C]T         60  74  58  48  35   87  63  75  51  77  ...    49    65   \nT[T>G]A         14  32  11  32  18   56  35  15  15  22  ...    20    15   \nT[T>G]C         19  25  24  24  35   39  33  16  26  26  ...    29    23   \nT[T>G]G         29  32  19  40  30   39  42  31  23  28  ...    21    23   \nT[T>G]T         41  57  44  53  43  129  73  55  43  53  ...   120    40   \n\n         1192  1193  1194  1195  1196  1197  1198  1199  \nA[C>A]A   103    86    86   104    24   109   100    84  \nA[C>A]C    44    56    54    46    10    36    41    36  \nA[C>A]G     5     7     5     5     5     9     4     4  \nA[C>A]T    31    45    50    47    18    52    55    40  \nA[C>G]A    42    67    72    25    27    29    26    25  \n...       ...   ...   ...   ...   ...   ...   ...   ...  \nT[T>C]T    70    73    56    40   118    64    43    49  \nT[T>G]A    12    33    22    12     9     9    29    10  \nT[T>G]C    17    26    10    27    12    28    26    25  \nT[T>G]G    25    33    21    15    16    20    27    19  \nT[T>G]T    40    61    70    56    63   118    99   137  \n\n[96 rows x 1200 columns]",
      "text/html": "<div>\n<style scoped>\n    .dataframe tbody tr th:only-of-type {\n        vertical-align: middle;\n    }\n\n    .dataframe tbody tr th {\n        vertical-align: top;\n    }\n\n    .dataframe thead th {\n        text-align: right;\n    }\n</style>\n<table border=\"1\" class=\"dataframe\">\n  <thead>\n    <tr style=\"text-align: right;\">\n      <th></th>\n      <th>Type    0</th>\n      <th>1</th>\n      <th>2</th>\n      <th>3</th>\n      <th>4</th>\n      <th>5</th>\n      <th>6</th>\n      <th>7</th>\n      <th>8</th>\n      <th>9</th>\n      <th>...</th>\n      <th>1190</th>\n      <th>1191</th>\n      <th>1192</th>\n      <th>1193</th>\n      <th>1194</th>\n      <th>1195</th>\n      <th>1196</th>\n      <th>1197</th>\n      <th>1198</th>\n      <th>1199</th>\n    </tr>\n  </thead>\n  <tbody>\n    <tr>\n      <th>A[C&gt;A]A</th>\n      <td>66</td>\n      <td>83</td>\n      <td>88</td>\n      <td>78</td>\n      <td>90</td>\n      <td>46</td>\n      <td>73</td>\n      <td>72</td>\n      <td>86</td>\n      <td>88</td>\n      <td>...</td>\n      <td>133</td>\n      <td>87</td>\n      <td>103</td>\n      <td>86</td>\n      <td>86</td>\n      <td>104</td>\n      <td>24</td>\n      <td>109</td>\n      <td>100</td>\n      <td>84</td>\n    </tr>\n    <tr>\n      <th>A[C&gt;A]C</th>\n      <td>35</td>\n      <td>40</td>\n      <td>46</td>\n      <td>80</td>\n      <td>48</td>\n      <td>32</td>\n      <td>71</td>\n      <td>51</td>\n      <td>40</td>\n      <td>58</td>\n      <td>...</td>\n      <td>53</td>\n      <td>45</td>\n      <td>44</td>\n      <td>56</td>\n      <td>54</td>\n      <td>46</td>\n      <td>10</td>\n      <td>36</td>\n      <td>41</td>\n      <td>36</td>\n    </tr>\n    <tr>\n      <th>A[C&gt;A]G</th>\n      <td>7</td>\n      <td>3</td>\n      <td>10</td>\n      <td>6</td>\n      <td>6</td>\n      <td>10</td>\n      <td>7</td>\n      <td>12</td>\n      <td>5</td>\n      <td>18</td>\n      <td>...</td>\n      <td>7</td>\n      <td>10</td>\n      <td>5</td>\n      <td>7</td>\n      <td>5</td>\n      <td>5</td>\n      <td>5</td>\n      <td>9</td>\n      <td>4</td>\n      <td>4</td>\n    </tr>\n    <tr>\n      <th>A[C&gt;A]T</th>\n      <td>38</td>\n      <td>43</td>\n      <td>39</td>\n      <td>49</td>\n      <td>39</td>\n      <td>35</td>\n      <td>50</td>\n      <td>25</td>\n      <td>39</td>\n      <td>42</td>\n      <td>...</td>\n      <td>62</td>\n      <td>39</td>\n      <td>31</td>\n      <td>45</td>\n      <td>50</td>\n      <td>47</td>\n      <td>18</td>\n      <td>52</td>\n      <td>55</td>\n      <td>40</td>\n    </tr>\n    <tr>\n      <th>A[C&gt;G]A</th>\n      <td>37</td>\n      <td>76</td>\n      <td>35</td>\n      <td>75</td>\n      <td>57</td>\n      <td>89</td>\n      <td>59</td>\n      <td>43</td>\n      <td>30</td>\n      <td>43</td>\n      <td>...</td>\n      <td>30</td>\n      <td>28</td>\n      <td>42</td>\n      <td>67</td>\n      <td>72</td>\n      <td>25</td>\n      <td>27</td>\n      <td>29</td>\n      <td>26</td>\n      <td>25</td>\n    </tr>\n    <tr>\n      <th>...</th>\n      <td>...</td>\n      <td>...</td>\n      <td>...</td>\n      <td>...</td>\n      <td>...</td>\n      <td>...</td>\n      <td>...</td>\n      <td>...</td>\n      <td>...</td>\n      <td>...</td>\n      <td>...</td>\n      <td>...</td>\n      <td>...</td>\n      <td>...</td>\n      <td>...</td>\n      <td>...</td>\n      <td>...</td>\n      <td>...</td>\n      <td>...</td>\n      <td>...</td>\n      <td>...</td>\n    </tr>\n    <tr>\n      <th>T[T&gt;C]T</th>\n      <td>60</td>\n      <td>74</td>\n      <td>58</td>\n      <td>48</td>\n      <td>35</td>\n      <td>87</td>\n      <td>63</td>\n      <td>75</td>\n      <td>51</td>\n      <td>77</td>\n      <td>...</td>\n      <td>49</td>\n      <td>65</td>\n      <td>70</td>\n      <td>73</td>\n      <td>56</td>\n      <td>40</td>\n      <td>118</td>\n      <td>64</td>\n      <td>43</td>\n      <td>49</td>\n    </tr>\n    <tr>\n      <th>T[T&gt;G]A</th>\n      <td>14</td>\n      <td>32</td>\n      <td>11</td>\n      <td>32</td>\n      <td>18</td>\n      <td>56</td>\n      <td>35</td>\n      <td>15</td>\n      <td>15</td>\n      <td>22</td>\n      <td>...</td>\n      <td>20</td>\n      <td>15</td>\n      <td>12</td>\n      <td>33</td>\n      <td>22</td>\n      <td>12</td>\n      <td>9</td>\n      <td>9</td>\n      <td>29</td>\n      <td>10</td>\n    </tr>\n    <tr>\n      <th>T[T&gt;G]C</th>\n      <td>19</td>\n      <td>25</td>\n      <td>24</td>\n      <td>24</td>\n      <td>35</td>\n      <td>39</td>\n      <td>33</td>\n      <td>16</td>\n      <td>26</td>\n      <td>26</td>\n      <td>...</td>\n      <td>29</td>\n      <td>23</td>\n      <td>17</td>\n      <td>26</td>\n      <td>10</td>\n      <td>27</td>\n      <td>12</td>\n      <td>28</td>\n      <td>26</td>\n      <td>25</td>\n    </tr>\n    <tr>\n      <th>T[T&gt;G]G</th>\n      <td>29</td>\n      <td>32</td>\n      <td>19</td>\n      <td>40</td>\n      <td>30</td>\n      <td>39</td>\n      <td>42</td>\n      <td>31</td>\n      <td>23</td>\n      <td>28</td>\n      <td>...</td>\n      <td>21</td>\n      <td>23</td>\n      <td>25</td>\n      <td>33</td>\n      <td>21</td>\n      <td>15</td>\n      <td>16</td>\n      <td>20</td>\n      <td>27</td>\n      <td>19</td>\n    </tr>\n    <tr>\n      <th>T[T&gt;G]T</th>\n      <td>41</td>\n      <td>57</td>\n      <td>44</td>\n      <td>53</td>\n      <td>43</td>\n      <td>129</td>\n      <td>73</td>\n      <td>55</td>\n      <td>43</td>\n      <td>53</td>\n      <td>...</td>\n      <td>120</td>\n      <td>40</td>\n      <td>40</td>\n      <td>61</td>\n      <td>70</td>\n      <td>56</td>\n      <td>63</td>\n      <td>118</td>\n      <td>99</td>\n      <td>137</td>\n    </tr>\n  </tbody>\n</table>\n<p>96 rows × 1200 columns</p>\n</div>"
     },
     "execution_count": 6,
     "metadata": {},
     "output_type": "execute_result"
    }
   ],
   "source": [
    "W"
   ]
  },
  {
   "cell_type": "code",
   "execution_count": 7,
   "metadata": {
    "ExecuteTime": {
     "end_time": "2024-04-08T12:42:48.478133Z",
     "start_time": "2024-04-08T12:42:48.454412Z"
    }
   },
   "outputs": [],
   "source": [
    "X = pd.read_csv('./data/COSMIC_V3_SBS.txt', index_col=0, sep='\\t')"
   ]
  },
  {
   "cell_type": "markdown",
   "metadata": {},
   "source": [
    "# Overview "
   ]
  },
  {
   "cell_type": "markdown",
   "metadata": {},
   "source": [
    "Benchmark run "
   ]
  },
  {
   "cell_type": "code",
   "execution_count": null,
   "metadata": {
    "is_executing": true,
    "ExecuteTime": {
     "start_time": "2024-04-08T12:42:50.344601Z"
    }
   },
   "outputs": [],
   "source": [
    "H, model = musical.refit.refit(X, W, method='likelihood_bidirectional', thresh=0.001)"
   ]
  },
  {
   "cell_type": "code",
   "execution_count": 23,
   "metadata": {},
   "outputs": [
    {
     "data": {
      "text/html": [
       "<div>\n",
       "<style scoped>\n",
       "    .dataframe tbody tr th:only-of-type {\n",
       "        vertical-align: middle;\n",
       "    }\n",
       "\n",
       "    .dataframe tbody tr th {\n",
       "        vertical-align: top;\n",
       "    }\n",
       "\n",
       "    .dataframe thead th {\n",
       "        text-align: right;\n",
       "    }\n",
       "</style>\n",
       "<table border=\"1\" class=\"dataframe\">\n",
       "  <thead>\n",
       "    <tr style=\"text-align: right;\">\n",
       "      <th></th>\n",
       "      <th>SBS1</th>\n",
       "      <th>SBS2</th>\n",
       "      <th>SBS3</th>\n",
       "      <th>SBS4</th>\n",
       "      <th>SBS5</th>\n",
       "      <th>SBS6</th>\n",
       "      <th>SBS7a</th>\n",
       "      <th>SBS7b</th>\n",
       "      <th>SBS7c</th>\n",
       "      <th>SBS7d</th>\n",
       "      <th>...</th>\n",
       "      <th>SBS53</th>\n",
       "      <th>SBS54</th>\n",
       "      <th>SBS55</th>\n",
       "      <th>SBS56</th>\n",
       "      <th>SBS57</th>\n",
       "      <th>SBS58</th>\n",
       "      <th>SBS59</th>\n",
       "      <th>SBS60</th>\n",
       "      <th>SBS84</th>\n",
       "      <th>SBS85</th>\n",
       "    </tr>\n",
       "  </thead>\n",
       "  <tbody>\n",
       "    <tr>\n",
       "      <th>Type    0</th>\n",
       "      <td>0.0</td>\n",
       "      <td>0.0</td>\n",
       "      <td>0.0</td>\n",
       "      <td>0.0</td>\n",
       "      <td>0.0</td>\n",
       "      <td>0.0</td>\n",
       "      <td>0.0</td>\n",
       "      <td>0.0</td>\n",
       "      <td>0.0</td>\n",
       "      <td>0.0</td>\n",
       "      <td>...</td>\n",
       "      <td>0.0</td>\n",
       "      <td>0.0</td>\n",
       "      <td>0.0</td>\n",
       "      <td>0.0</td>\n",
       "      <td>0.0</td>\n",
       "      <td>0.0</td>\n",
       "      <td>0.0</td>\n",
       "      <td>0.0</td>\n",
       "      <td>0.0</td>\n",
       "      <td>0.0</td>\n",
       "    </tr>\n",
       "    <tr>\n",
       "      <th>1</th>\n",
       "      <td>0.0</td>\n",
       "      <td>0.0</td>\n",
       "      <td>0.0</td>\n",
       "      <td>0.0</td>\n",
       "      <td>0.0</td>\n",
       "      <td>0.0</td>\n",
       "      <td>0.0</td>\n",
       "      <td>0.0</td>\n",
       "      <td>0.0</td>\n",
       "      <td>0.0</td>\n",
       "      <td>...</td>\n",
       "      <td>0.0</td>\n",
       "      <td>0.0</td>\n",
       "      <td>0.0</td>\n",
       "      <td>0.0</td>\n",
       "      <td>0.0</td>\n",
       "      <td>0.0</td>\n",
       "      <td>0.0</td>\n",
       "      <td>0.0</td>\n",
       "      <td>0.0</td>\n",
       "      <td>0.0</td>\n",
       "    </tr>\n",
       "    <tr>\n",
       "      <th>2</th>\n",
       "      <td>0.0</td>\n",
       "      <td>0.0</td>\n",
       "      <td>0.0</td>\n",
       "      <td>0.0</td>\n",
       "      <td>0.0</td>\n",
       "      <td>0.0</td>\n",
       "      <td>0.0</td>\n",
       "      <td>0.0</td>\n",
       "      <td>0.0</td>\n",
       "      <td>0.0</td>\n",
       "      <td>...</td>\n",
       "      <td>0.0</td>\n",
       "      <td>0.0</td>\n",
       "      <td>0.0</td>\n",
       "      <td>0.0</td>\n",
       "      <td>0.0</td>\n",
       "      <td>0.0</td>\n",
       "      <td>0.0</td>\n",
       "      <td>0.0</td>\n",
       "      <td>0.0</td>\n",
       "      <td>0.0</td>\n",
       "    </tr>\n",
       "    <tr>\n",
       "      <th>3</th>\n",
       "      <td>0.0</td>\n",
       "      <td>0.0</td>\n",
       "      <td>0.0</td>\n",
       "      <td>0.0</td>\n",
       "      <td>0.0</td>\n",
       "      <td>0.0</td>\n",
       "      <td>0.0</td>\n",
       "      <td>0.0</td>\n",
       "      <td>0.0</td>\n",
       "      <td>0.0</td>\n",
       "      <td>...</td>\n",
       "      <td>0.0</td>\n",
       "      <td>0.0</td>\n",
       "      <td>0.0</td>\n",
       "      <td>0.0</td>\n",
       "      <td>0.0</td>\n",
       "      <td>0.0</td>\n",
       "      <td>0.0</td>\n",
       "      <td>0.0</td>\n",
       "      <td>0.0</td>\n",
       "      <td>0.0</td>\n",
       "    </tr>\n",
       "    <tr>\n",
       "      <th>4</th>\n",
       "      <td>0.0</td>\n",
       "      <td>0.0</td>\n",
       "      <td>0.0</td>\n",
       "      <td>0.0</td>\n",
       "      <td>0.0</td>\n",
       "      <td>0.0</td>\n",
       "      <td>0.0</td>\n",
       "      <td>0.0</td>\n",
       "      <td>0.0</td>\n",
       "      <td>0.0</td>\n",
       "      <td>...</td>\n",
       "      <td>0.0</td>\n",
       "      <td>0.0</td>\n",
       "      <td>0.0</td>\n",
       "      <td>0.0</td>\n",
       "      <td>0.0</td>\n",
       "      <td>0.0</td>\n",
       "      <td>0.0</td>\n",
       "      <td>0.0</td>\n",
       "      <td>0.0</td>\n",
       "      <td>0.0</td>\n",
       "    </tr>\n",
       "    <tr>\n",
       "      <th>...</th>\n",
       "      <td>...</td>\n",
       "      <td>...</td>\n",
       "      <td>...</td>\n",
       "      <td>...</td>\n",
       "      <td>...</td>\n",
       "      <td>...</td>\n",
       "      <td>...</td>\n",
       "      <td>...</td>\n",
       "      <td>...</td>\n",
       "      <td>...</td>\n",
       "      <td>...</td>\n",
       "      <td>...</td>\n",
       "      <td>...</td>\n",
       "      <td>...</td>\n",
       "      <td>...</td>\n",
       "      <td>...</td>\n",
       "      <td>...</td>\n",
       "      <td>...</td>\n",
       "      <td>...</td>\n",
       "      <td>...</td>\n",
       "      <td>...</td>\n",
       "    </tr>\n",
       "    <tr>\n",
       "      <th>1195</th>\n",
       "      <td>0.0</td>\n",
       "      <td>0.0</td>\n",
       "      <td>0.0</td>\n",
       "      <td>0.0</td>\n",
       "      <td>0.0</td>\n",
       "      <td>0.0</td>\n",
       "      <td>0.0</td>\n",
       "      <td>0.0</td>\n",
       "      <td>0.0</td>\n",
       "      <td>0.0</td>\n",
       "      <td>...</td>\n",
       "      <td>0.0</td>\n",
       "      <td>0.0</td>\n",
       "      <td>0.0</td>\n",
       "      <td>0.0</td>\n",
       "      <td>0.0</td>\n",
       "      <td>0.0</td>\n",
       "      <td>0.0</td>\n",
       "      <td>0.0</td>\n",
       "      <td>0.0</td>\n",
       "      <td>0.0</td>\n",
       "    </tr>\n",
       "    <tr>\n",
       "      <th>1196</th>\n",
       "      <td>0.0</td>\n",
       "      <td>0.0</td>\n",
       "      <td>0.0</td>\n",
       "      <td>0.0</td>\n",
       "      <td>0.0</td>\n",
       "      <td>0.0</td>\n",
       "      <td>0.0</td>\n",
       "      <td>0.0</td>\n",
       "      <td>0.0</td>\n",
       "      <td>0.0</td>\n",
       "      <td>...</td>\n",
       "      <td>0.0</td>\n",
       "      <td>0.0</td>\n",
       "      <td>0.0</td>\n",
       "      <td>0.0</td>\n",
       "      <td>0.0</td>\n",
       "      <td>0.0</td>\n",
       "      <td>0.0</td>\n",
       "      <td>0.0</td>\n",
       "      <td>0.0</td>\n",
       "      <td>0.0</td>\n",
       "    </tr>\n",
       "    <tr>\n",
       "      <th>1197</th>\n",
       "      <td>0.0</td>\n",
       "      <td>0.0</td>\n",
       "      <td>0.0</td>\n",
       "      <td>0.0</td>\n",
       "      <td>0.0</td>\n",
       "      <td>0.0</td>\n",
       "      <td>0.0</td>\n",
       "      <td>0.0</td>\n",
       "      <td>0.0</td>\n",
       "      <td>0.0</td>\n",
       "      <td>...</td>\n",
       "      <td>0.0</td>\n",
       "      <td>0.0</td>\n",
       "      <td>0.0</td>\n",
       "      <td>0.0</td>\n",
       "      <td>0.0</td>\n",
       "      <td>0.0</td>\n",
       "      <td>0.0</td>\n",
       "      <td>0.0</td>\n",
       "      <td>0.0</td>\n",
       "      <td>0.0</td>\n",
       "    </tr>\n",
       "    <tr>\n",
       "      <th>1198</th>\n",
       "      <td>0.0</td>\n",
       "      <td>0.0</td>\n",
       "      <td>0.0</td>\n",
       "      <td>0.0</td>\n",
       "      <td>0.0</td>\n",
       "      <td>0.0</td>\n",
       "      <td>0.0</td>\n",
       "      <td>0.0</td>\n",
       "      <td>0.0</td>\n",
       "      <td>0.0</td>\n",
       "      <td>...</td>\n",
       "      <td>0.0</td>\n",
       "      <td>0.0</td>\n",
       "      <td>0.0</td>\n",
       "      <td>0.0</td>\n",
       "      <td>0.0</td>\n",
       "      <td>0.0</td>\n",
       "      <td>0.0</td>\n",
       "      <td>0.0</td>\n",
       "      <td>0.0</td>\n",
       "      <td>0.0</td>\n",
       "    </tr>\n",
       "    <tr>\n",
       "      <th>1199</th>\n",
       "      <td>0.0</td>\n",
       "      <td>0.0</td>\n",
       "      <td>0.0</td>\n",
       "      <td>0.0</td>\n",
       "      <td>0.0</td>\n",
       "      <td>0.0</td>\n",
       "      <td>0.0</td>\n",
       "      <td>0.0</td>\n",
       "      <td>0.0</td>\n",
       "      <td>0.0</td>\n",
       "      <td>...</td>\n",
       "      <td>0.0</td>\n",
       "      <td>0.0</td>\n",
       "      <td>0.0</td>\n",
       "      <td>0.0</td>\n",
       "      <td>0.0</td>\n",
       "      <td>0.0</td>\n",
       "      <td>0.0</td>\n",
       "      <td>0.0</td>\n",
       "      <td>0.0</td>\n",
       "      <td>0.0</td>\n",
       "    </tr>\n",
       "  </tbody>\n",
       "</table>\n",
       "<p>1200 rows × 67 columns</p>\n",
       "</div>"
      ],
      "text/plain": [
       "           SBS1  SBS2  SBS3  SBS4  SBS5  SBS6  SBS7a  SBS7b  SBS7c  SBS7d  \\\n",
       "Type    0   0.0   0.0   0.0   0.0   0.0   0.0    0.0    0.0    0.0    0.0   \n",
       "1           0.0   0.0   0.0   0.0   0.0   0.0    0.0    0.0    0.0    0.0   \n",
       "2           0.0   0.0   0.0   0.0   0.0   0.0    0.0    0.0    0.0    0.0   \n",
       "3           0.0   0.0   0.0   0.0   0.0   0.0    0.0    0.0    0.0    0.0   \n",
       "4           0.0   0.0   0.0   0.0   0.0   0.0    0.0    0.0    0.0    0.0   \n",
       "...         ...   ...   ...   ...   ...   ...    ...    ...    ...    ...   \n",
       "1195        0.0   0.0   0.0   0.0   0.0   0.0    0.0    0.0    0.0    0.0   \n",
       "1196        0.0   0.0   0.0   0.0   0.0   0.0    0.0    0.0    0.0    0.0   \n",
       "1197        0.0   0.0   0.0   0.0   0.0   0.0    0.0    0.0    0.0    0.0   \n",
       "1198        0.0   0.0   0.0   0.0   0.0   0.0    0.0    0.0    0.0    0.0   \n",
       "1199        0.0   0.0   0.0   0.0   0.0   0.0    0.0    0.0    0.0    0.0   \n",
       "\n",
       "           ...  SBS53  SBS54  SBS55  SBS56  SBS57  SBS58  SBS59  SBS60  SBS84  \\\n",
       "Type    0  ...    0.0    0.0    0.0    0.0    0.0    0.0    0.0    0.0    0.0   \n",
       "1          ...    0.0    0.0    0.0    0.0    0.0    0.0    0.0    0.0    0.0   \n",
       "2          ...    0.0    0.0    0.0    0.0    0.0    0.0    0.0    0.0    0.0   \n",
       "3          ...    0.0    0.0    0.0    0.0    0.0    0.0    0.0    0.0    0.0   \n",
       "4          ...    0.0    0.0    0.0    0.0    0.0    0.0    0.0    0.0    0.0   \n",
       "...        ...    ...    ...    ...    ...    ...    ...    ...    ...    ...   \n",
       "1195       ...    0.0    0.0    0.0    0.0    0.0    0.0    0.0    0.0    0.0   \n",
       "1196       ...    0.0    0.0    0.0    0.0    0.0    0.0    0.0    0.0    0.0   \n",
       "1197       ...    0.0    0.0    0.0    0.0    0.0    0.0    0.0    0.0    0.0   \n",
       "1198       ...    0.0    0.0    0.0    0.0    0.0    0.0    0.0    0.0    0.0   \n",
       "1199       ...    0.0    0.0    0.0    0.0    0.0    0.0    0.0    0.0    0.0   \n",
       "\n",
       "           SBS85  \n",
       "Type    0    0.0  \n",
       "1            0.0  \n",
       "2            0.0  \n",
       "3            0.0  \n",
       "4            0.0  \n",
       "...          ...  \n",
       "1195         0.0  \n",
       "1196         0.0  \n",
       "1197         0.0  \n",
       "1198         0.0  \n",
       "1199         0.0  \n",
       "\n",
       "[1200 rows x 67 columns]"
      ]
     },
     "execution_count": 23,
     "metadata": {},
     "output_type": "execute_result"
    }
   ],
   "source": [
    "H"
   ]
  },
  {
   "cell_type": "code",
   "execution_count": 21,
   "metadata": {},
   "outputs": [],
   "source": [
    "H.to_csv('musical_output.csv')"
   ]
  },
  {
   "cell_type": "code",
   "execution_count": null,
   "metadata": {},
   "outputs": [],
   "source": []
  },
  {
   "cell_type": "code",
   "execution_count": null,
   "metadata": {},
   "outputs": [],
   "source": []
  },
  {
   "cell_type": "code",
   "execution_count": null,
   "metadata": {},
   "outputs": [],
   "source": []
  },
  {
   "cell_type": "code",
   "execution_count": null,
   "metadata": {},
   "outputs": [],
   "source": []
  },
  {
   "cell_type": "code",
   "execution_count": null,
   "metadata": {},
   "outputs": [],
   "source": []
  },
  {
   "cell_type": "code",
   "execution_count": null,
   "metadata": {},
   "outputs": [],
   "source": []
  },
  {
   "cell_type": "code",
   "execution_count": null,
   "metadata": {},
   "outputs": [],
   "source": []
  },
  {
   "cell_type": "code",
   "execution_count": null,
   "metadata": {},
   "outputs": [],
   "source": []
  },
  {
   "cell_type": "code",
   "execution_count": null,
   "metadata": {},
   "outputs": [],
   "source": []
  },
  {
   "cell_type": "markdown",
   "metadata": {},
   "source": [
    "# Input data"
   ]
  },
  {
   "cell_type": "markdown",
   "metadata": {},
   "source": [
    "The input data for refitting is the mutation count matrix $X$ and the signature catalog $W$. "
   ]
  },
  {
   "cell_type": "code",
   "execution_count": null,
   "metadata": {},
   "outputs": [],
   "source": []
  },
  {
   "cell_type": "markdown",
   "metadata": {},
   "source": [
    "## The mutation count matrix"
   ]
  },
  {
   "cell_type": "markdown",
   "metadata": {},
   "source": [
    "Here we use a simulated dataset based on PCAWG skin melanomas to demonstrate how to perform refitting. The dataset contains 15 SBS signatures. \n",
    "\n",
    "Below, `X` is the simulated mutation count matrix. `W_true` is the true signatures present in the dataset (i.e., the 15 SBS signatures). `H_true` is the true exposure matrix from which `X` is simulated. \n",
    "\n",
    "In reality, only `X` is needed, since `W_true` and `H_true` are unknown. We read the truth information here so that we can evaluate the refitting results."
   ]
  },
  {
   "cell_type": "code",
   "execution_count": 4,
   "metadata": {},
   "outputs": [],
   "source": [
    "#changed for comparation\n",
    "X = pd.read_csv('./data/simulated_example.Skin.Melanoma.X.csv', index_col=0)\n",
    "W_true = pd.read_csv('./data/data_for_deconstructSigs.csv', index_col=0, sep='\\t')\n",
    "H_true = pd.read_csv('./data/simulated_example.Skin.Melanoma.H_true.csv', index_col=0)"
   ]
  },
  {
   "cell_type": "code",
   "execution_count": null,
   "metadata": {},
   "outputs": [],
   "source": []
  },
  {
   "cell_type": "markdown",
   "metadata": {},
   "source": [
    "## The signature catalog "
   ]
  },
  {
   "cell_type": "markdown",
   "metadata": {},
   "source": [
    "MuSiCal provides several signature catalogs, listed below. "
   ]
  },
  {
   "cell_type": "code",
   "execution_count": 5,
   "metadata": {},
   "outputs": [
    {
     "data": {
      "text/plain": [
       "['COSMIC_v2_SBS_WGS',\n",
       " 'COSMIC_v3_SBS_WGS',\n",
       " 'COSMIC_v3_SBS_WES',\n",
       " 'COSMIC_v3p1_SBS_WGS',\n",
       " 'COSMIC_v3p2_SBS_WGS',\n",
       " 'COSMIC-MuSiCal_v3p2_SBS_WGS',\n",
       " 'COSMIC_v3p1_Indel',\n",
       " 'MuSiCal_v4_Indel_WGS']"
      ]
     },
     "execution_count": 5,
     "metadata": {},
     "output_type": "execute_result"
    }
   ],
   "source": [
    "musical.catalog.CATALOG_NAMES"
   ]
  },
  {
   "cell_type": "markdown",
   "metadata": {},
   "source": [
    "Let's first load the default SBS catalog, which is `COSMIC-MuSiCal_v3p2_SBS_WGS`. This catalog includes 77 COSMIC v3.2 SBS signatures, 6 SBS signatures additionally discovered by MuSiCal from PCAWG samples, and a revised spectrum of SBS40 based on MuSiCal. Below, `catalog` is a catalog class object. Signatures in the catalog can be accessed through `catalog.W`. We see that there are in total 84 signatures. "
   ]
  },
  {
   "cell_type": "code",
   "execution_count": 6,
   "metadata": {},
   "outputs": [
    {
     "name": "stdout",
     "output_type": "stream",
     "text": [
      "84\n"
     ]
    }
   ],
   "source": [
    "catalog = musical.load_catalog()\n",
    "print(catalog.W.shape[1])"
   ]
  },
  {
   "cell_type": "markdown",
   "metadata": {},
   "source": [
    "Other catalogs can be loaded if a name is specified. For example, the following line loads the preferred indel signature catalog. \n",
    "```\n",
    "catalog = musical.load_catalog('MuSiCal_v4_Indel_WGS')\n",
    "```"
   ]
  },
  {
   "cell_type": "markdown",
   "metadata": {},
   "source": [
    "Directly refitting our dataset `X` against all 96 signatures in the catalog will introduce many false positives, leading to over-assignment. It is thus better to restrict our catalog to only those signatures found in the specific tumor type. \n",
    "\n",
    "You can select your own preferred set of signatures. But MuSiCal provides such information based on our PCAWG reanalysis. \n",
    "\n",
    "Below, we restrict our catalog to Skin.Melanoma. Now, only 15 signatures remain in the catalog.  "
   ]
  },
  {
   "cell_type": "code",
   "execution_count": 7,
   "metadata": {},
   "outputs": [
    {
     "name": "stdout",
     "output_type": "stream",
     "text": [
      "30\n"
     ]
    }
   ],
   "source": [
    "catalog.restrict_catalog(tumor_type='Skin.Melanoma')\n",
    "print(catalog.W.shape[1])"
   ]
  },
  {
   "cell_type": "markdown",
   "metadata": {},
   "source": [
    "A list of available tumor types are shown below. "
   ]
  },
  {
   "cell_type": "code",
   "execution_count": 8,
   "metadata": {},
   "outputs": [
    {
     "name": "stdout",
     "output_type": "stream",
     "text": [
      "['Biliary.AdenoCA', 'Bladder.TCC', 'Bone.Benign', 'Bone.Epith', 'Bone.Osteosarc', 'Breast.AdenoCA', 'Breast.DCIS', 'Breast.LobularCA', 'CNS.GBM', 'CNS.Medullo', 'CNS.Oligo', 'CNS.PiloAstro', 'Cervix.AdenoCA', 'Cervix.SCC', 'ColoRect.AdenoCA', 'Eso.AdenoCA', 'Head.SCC', 'Kidney.ChRCC', 'Kidney.RCC', 'Liver.HCC', 'Lung.AdenoCA', 'Lung.SCC', 'Lymph.BNHL', 'Lymph.CLL', 'Myeloid.AML', 'Myeloid.MDS', 'Myeloid.MPN', 'Ovary.AdenoCA', 'Panc.AdenoCA', 'Panc.Endocrine', 'Prost.AdenoCA', 'Skin.Melanoma', 'SoftTissue.Leiomyo', 'SoftTissue.Liposarc', 'Stomach.AdenoCA', 'Thy.AdenoCA', 'Uterus.AdenoCA']\n"
     ]
    }
   ],
   "source": [
    "print(catalog.show_tumor_type_options().tolist())"
   ]
  },
  {
   "cell_type": "markdown",
   "metadata": {},
   "source": [
    "We can further restrict our catalog by removing signatures associated with mismatch repair deficiency (MMRD) or polymerase proofreading deficiency (PPD) (e.g., samples with POLE-exo mutations), since we know that this simulated dataset does not contain MMRD or PPD samples. \n",
    "\n",
    "If you are not sure whether your dataset contains MMRD/PPD samples, you can first perform a refitting including the MMRD/PPD signatures, and then use the `musical.preprocessing` module to determine if there is a cluster of MMRD/PPD samples within your dataset. If so, you can separate these samples and perform refitting again for the two clusters of samples separately. Of course other methods can be used to determine MMRD/PPD samples, e.g., by looking for hypermutations, inspecting POLE-exo mutations, detecting microsatellite instabilities, etc. \n",
    "\n",
    "In this case, no additional signatures are removed, since none of the 15 skin melanoma-specific signatures are associated with MMRD or PPD. "
   ]
  },
  {
   "cell_type": "code",
   "execution_count": 9,
   "metadata": {},
   "outputs": [
    {
     "name": "stdout",
     "output_type": "stream",
     "text": [
      "15\n"
     ]
    }
   ],
   "source": [
    "catalog.restrict_catalog(tumor_type='Skin.Melanoma', is_MMRD=False, is_PPD=False)\n",
    "print(catalog.W.shape[1])"
   ]
  },
  {
   "cell_type": "markdown",
   "metadata": {},
   "source": [
    "We can finally obtain signatures in the catalog. "
   ]
  },
  {
   "cell_type": "code",
   "execution_count": 10,
   "metadata": {},
   "outputs": [],
   "source": [
    "W = catalog.W"
   ]
  },
  {
   "cell_type": "code",
   "execution_count": null,
   "metadata": {},
   "outputs": [],
   "source": []
  },
  {
   "cell_type": "markdown",
   "metadata": {},
   "source": [
    "# Refitting "
   ]
  },
  {
   "cell_type": "markdown",
   "metadata": {},
   "source": [
    "Refitting can be performed with `musical.refit.refit()`."
   ]
  },
  {
   "cell_type": "code",
   "execution_count": null,
   "metadata": {},
   "outputs": [],
   "source": []
  },
  {
   "cell_type": "markdown",
   "metadata": {},
   "source": [
    "## Naive NNLS "
   ]
  },
  {
   "cell_type": "markdown",
   "metadata": {},
   "source": [
    "Let's first try naive NNLS. This can be achieved by setting `method` to `thresh_naive` and `thresh` to `0`. The method `thresh_naive` simply performs NNLS, and then set signatures with relative exposures smaller than `thresh` to have zero exposures.  "
   ]
  },
  {
   "cell_type": "code",
   "execution_count": 11,
   "metadata": {},
   "outputs": [],
   "source": [
    "H, model = musical.refit.refit(X, W, method='thresh_naive', thresh=0)"
   ]
  },
  {
   "cell_type": "markdown",
   "metadata": {},
   "source": [
    "The resulting exposure matrix is as follows:"
   ]
  },
  {
   "cell_type": "code",
   "execution_count": 12,
   "metadata": {},
   "outputs": [
    {
     "data": {
      "text/html": [
       "<div>\n",
       "<style scoped>\n",
       "    .dataframe tbody tr th:only-of-type {\n",
       "        vertical-align: middle;\n",
       "    }\n",
       "\n",
       "    .dataframe tbody tr th {\n",
       "        vertical-align: top;\n",
       "    }\n",
       "\n",
       "    .dataframe thead th {\n",
       "        text-align: right;\n",
       "    }\n",
       "</style>\n",
       "<table border=\"1\" class=\"dataframe\">\n",
       "  <thead>\n",
       "    <tr style=\"text-align: right;\">\n",
       "      <th></th>\n",
       "      <th>SP124323</th>\n",
       "      <th>SP124281</th>\n",
       "      <th>SP124389</th>\n",
       "      <th>SP124362</th>\n",
       "      <th>SP124394</th>\n",
       "      <th>SP124380</th>\n",
       "      <th>SP124399</th>\n",
       "      <th>SP124311</th>\n",
       "      <th>SP124434</th>\n",
       "      <th>SP124428</th>\n",
       "      <th>...</th>\n",
       "      <th>SP124271</th>\n",
       "      <th>SP124336</th>\n",
       "      <th>SP124441</th>\n",
       "      <th>SP124291</th>\n",
       "      <th>SP82471</th>\n",
       "      <th>SP124353</th>\n",
       "      <th>SP113197</th>\n",
       "      <th>SP83027</th>\n",
       "      <th>SP124351</th>\n",
       "      <th>SP124458</th>\n",
       "    </tr>\n",
       "  </thead>\n",
       "  <tbody>\n",
       "    <tr>\n",
       "      <th>SBS1</th>\n",
       "      <td>290.932540</td>\n",
       "      <td>168.392622</td>\n",
       "      <td>3.455685</td>\n",
       "      <td>121.673856</td>\n",
       "      <td>33.879735</td>\n",
       "      <td>0.000000</td>\n",
       "      <td>0.000000</td>\n",
       "      <td>7.439992</td>\n",
       "      <td>0.000000</td>\n",
       "      <td>0.000000</td>\n",
       "      <td>...</td>\n",
       "      <td>694.963837</td>\n",
       "      <td>334.625196</td>\n",
       "      <td>618.845212</td>\n",
       "      <td>261.553617</td>\n",
       "      <td>479.625523</td>\n",
       "      <td>334.849471</td>\n",
       "      <td>487.220375</td>\n",
       "      <td>702.512154</td>\n",
       "      <td>0.000000</td>\n",
       "      <td>0.000000</td>\n",
       "    </tr>\n",
       "    <tr>\n",
       "      <th>SBS2</th>\n",
       "      <td>167.628152</td>\n",
       "      <td>252.008890</td>\n",
       "      <td>0.000000</td>\n",
       "      <td>219.398711</td>\n",
       "      <td>0.000000</td>\n",
       "      <td>0.000000</td>\n",
       "      <td>761.898641</td>\n",
       "      <td>148.445604</td>\n",
       "      <td>0.000000</td>\n",
       "      <td>0.000000</td>\n",
       "      <td>...</td>\n",
       "      <td>1044.499723</td>\n",
       "      <td>86.746569</td>\n",
       "      <td>512.642909</td>\n",
       "      <td>480.696930</td>\n",
       "      <td>202.639766</td>\n",
       "      <td>227.684818</td>\n",
       "      <td>379.576132</td>\n",
       "      <td>0.000000</td>\n",
       "      <td>42.793347</td>\n",
       "      <td>188.123167</td>\n",
       "    </tr>\n",
       "    <tr>\n",
       "      <th>SBS3</th>\n",
       "      <td>74.115014</td>\n",
       "      <td>0.000000</td>\n",
       "      <td>43.006129</td>\n",
       "      <td>0.000000</td>\n",
       "      <td>0.000000</td>\n",
       "      <td>350.782361</td>\n",
       "      <td>0.000000</td>\n",
       "      <td>0.000000</td>\n",
       "      <td>59.690625</td>\n",
       "      <td>460.064275</td>\n",
       "      <td>...</td>\n",
       "      <td>8375.335994</td>\n",
       "      <td>2384.685290</td>\n",
       "      <td>3840.222019</td>\n",
       "      <td>1980.315298</td>\n",
       "      <td>2698.550827</td>\n",
       "      <td>1238.678942</td>\n",
       "      <td>1953.732826</td>\n",
       "      <td>1622.879194</td>\n",
       "      <td>0.000000</td>\n",
       "      <td>0.000000</td>\n",
       "    </tr>\n",
       "    <tr>\n",
       "      <th>SBS5</th>\n",
       "      <td>1918.174315</td>\n",
       "      <td>1582.209531</td>\n",
       "      <td>2783.517374</td>\n",
       "      <td>89.314829</td>\n",
       "      <td>0.000000</td>\n",
       "      <td>6677.434453</td>\n",
       "      <td>12255.033423</td>\n",
       "      <td>12576.803327</td>\n",
       "      <td>8681.500148</td>\n",
       "      <td>0.000000</td>\n",
       "      <td>...</td>\n",
       "      <td>4113.171976</td>\n",
       "      <td>1675.629974</td>\n",
       "      <td>2960.886074</td>\n",
       "      <td>1654.295535</td>\n",
       "      <td>1054.027011</td>\n",
       "      <td>828.215157</td>\n",
       "      <td>1388.112314</td>\n",
       "      <td>1498.240185</td>\n",
       "      <td>930.267297</td>\n",
       "      <td>26.914515</td>\n",
       "    </tr>\n",
       "    <tr>\n",
       "      <th>SBS7a</th>\n",
       "      <td>0.000000</td>\n",
       "      <td>47.831538</td>\n",
       "      <td>52176.996552</td>\n",
       "      <td>169888.854658</td>\n",
       "      <td>83299.190298</td>\n",
       "      <td>113109.454007</td>\n",
       "      <td>121593.886709</td>\n",
       "      <td>55904.867638</td>\n",
       "      <td>58921.252123</td>\n",
       "      <td>241293.000767</td>\n",
       "      <td>...</td>\n",
       "      <td>3182.675326</td>\n",
       "      <td>523.090975</td>\n",
       "      <td>0.000000</td>\n",
       "      <td>294.383994</td>\n",
       "      <td>0.000000</td>\n",
       "      <td>41.823159</td>\n",
       "      <td>0.000000</td>\n",
       "      <td>915.465141</td>\n",
       "      <td>2835.824831</td>\n",
       "      <td>106921.666111</td>\n",
       "    </tr>\n",
       "  </tbody>\n",
       "</table>\n",
       "<p>5 rows × 107 columns</p>\n",
       "</div>"
      ],
      "text/plain": [
       "          SP124323     SP124281      SP124389       SP124362      SP124394  \\\n",
       "SBS1    290.932540   168.392622      3.455685     121.673856     33.879735   \n",
       "SBS2    167.628152   252.008890      0.000000     219.398711      0.000000   \n",
       "SBS3     74.115014     0.000000     43.006129       0.000000      0.000000   \n",
       "SBS5   1918.174315  1582.209531   2783.517374      89.314829      0.000000   \n",
       "SBS7a     0.000000    47.831538  52176.996552  169888.854658  83299.190298   \n",
       "\n",
       "            SP124380       SP124399      SP124311      SP124434  \\\n",
       "SBS1        0.000000       0.000000      7.439992      0.000000   \n",
       "SBS2        0.000000     761.898641    148.445604      0.000000   \n",
       "SBS3      350.782361       0.000000      0.000000     59.690625   \n",
       "SBS5     6677.434453   12255.033423  12576.803327   8681.500148   \n",
       "SBS7a  113109.454007  121593.886709  55904.867638  58921.252123   \n",
       "\n",
       "            SP124428  ...     SP124271     SP124336     SP124441     SP124291  \\\n",
       "SBS1        0.000000  ...   694.963837   334.625196   618.845212   261.553617   \n",
       "SBS2        0.000000  ...  1044.499723    86.746569   512.642909   480.696930   \n",
       "SBS3      460.064275  ...  8375.335994  2384.685290  3840.222019  1980.315298   \n",
       "SBS5        0.000000  ...  4113.171976  1675.629974  2960.886074  1654.295535   \n",
       "SBS7a  241293.000767  ...  3182.675326   523.090975     0.000000   294.383994   \n",
       "\n",
       "           SP82471     SP124353     SP113197      SP83027     SP124351  \\\n",
       "SBS1    479.625523   334.849471   487.220375   702.512154     0.000000   \n",
       "SBS2    202.639766   227.684818   379.576132     0.000000    42.793347   \n",
       "SBS3   2698.550827  1238.678942  1953.732826  1622.879194     0.000000   \n",
       "SBS5   1054.027011   828.215157  1388.112314  1498.240185   930.267297   \n",
       "SBS7a     0.000000    41.823159     0.000000   915.465141  2835.824831   \n",
       "\n",
       "            SP124458  \n",
       "SBS1        0.000000  \n",
       "SBS2      188.123167  \n",
       "SBS3        0.000000  \n",
       "SBS5       26.914515  \n",
       "SBS7a  106921.666111  \n",
       "\n",
       "[5 rows x 107 columns]"
      ]
     },
     "execution_count": 12,
     "metadata": {},
     "output_type": "execute_result"
    }
   ],
   "source": [
    "H.head()"
   ]
  },
  {
   "cell_type": "markdown",
   "metadata": {},
   "source": [
    "We can compare the obtained exposure matrix with the true one to evaluate the refitting result with naive NNLS. To do that, let's first reindex `H_true` so that it has the same signatures as in `H`. "
   ]
  },
  {
   "cell_type": "code",
   "execution_count": 13,
   "metadata": {},
   "outputs": [],
   "source": [
    "H_true_reindexed = H_true.reindex(H.index).fillna(0)"
   ]
  },
  {
   "cell_type": "markdown",
   "metadata": {},
   "source": [
    "Then, we calculate some statistics by comparing zero and nonzero entries in `H_true_reindexed` and those in `H`"
   ]
  },
  {
   "cell_type": "code",
   "execution_count": 14,
   "metadata": {},
   "outputs": [
    {
     "name": "stdout",
     "output_type": "stream",
     "text": [
      "424 519 662 0 424 1181\n"
     ]
    }
   ],
   "source": [
    "TP = np.logical_and(H_true_reindexed > 0, H > 0).sum().sum()\n",
    "FP = np.logical_and(H_true_reindexed == 0, H > 0).sum().sum()\n",
    "TN = np.logical_and(H_true_reindexed == 0, H == 0).sum().sum()\n",
    "FN = np.logical_and(H_true_reindexed > 0, H == 0).sum().sum()\n",
    "P = TP + FN\n",
    "N = TN + FP\n",
    "print(TP, FP, TN, FN, P, N)"
   ]
  },
  {
   "cell_type": "code",
   "execution_count": 15,
   "metadata": {},
   "outputs": [
    {
     "name": "stdout",
     "output_type": "stream",
     "text": [
      "Sensitivity = 1\n",
      "False positive rate = 0.439\n"
     ]
    }
   ],
   "source": [
    "print('Sensitivity = %.3g' % (TP/P))\n",
    "print('False positive rate = %.3g' % (FP/N))"
   ]
  },
  {
   "cell_type": "markdown",
   "metadata": {},
   "source": [
    "We see that naive NNLS leads to a high false positive rate, i.e., over-assignment. "
   ]
  },
  {
   "cell_type": "code",
   "execution_count": null,
   "metadata": {},
   "outputs": [],
   "source": []
  },
  {
   "cell_type": "markdown",
   "metadata": {},
   "source": [
    "## Likelihood-based sparse NNLS "
   ]
  },
  {
   "cell_type": "markdown",
   "metadata": {},
   "source": [
    "MuSiCal implements a likelihood-based sparse NNLS for refitting. It can be achieved by setting `method` to `likelihood_bidirectional` in `musical.refit.refit()`. The small nonnegative likelihood threshold `thresh` controls the sparsity level. When `thresh` is 0, the result is almost equivalent to naive NNLS. Stronger sparsity will be induced when `thresh` is larger. \n",
    "\n",
    "In the full pipeline including *de novo* signature discovery followed by matching and refitting, this likelihood threshold will be automatically chosen by the *in silico* validation module. \n",
    "\n",
    "Here, let's use a reasonable threshold 0.001. "
   ]
  },
  {
   "cell_type": "code",
   "execution_count": 16,
   "metadata": {},
   "outputs": [],
   "source": [
    "H, model = musical.refit.refit(X, W, method='likelihood_bidirectional', thresh=0.001)"
   ]
  },
  {
   "cell_type": "code",
   "execution_count": 17,
   "metadata": {},
   "outputs": [
    {
     "data": {
      "text/html": [
       "<div>\n",
       "<style scoped>\n",
       "    .dataframe tbody tr th:only-of-type {\n",
       "        vertical-align: middle;\n",
       "    }\n",
       "\n",
       "    .dataframe tbody tr th {\n",
       "        vertical-align: top;\n",
       "    }\n",
       "\n",
       "    .dataframe thead th {\n",
       "        text-align: right;\n",
       "    }\n",
       "</style>\n",
       "<table border=\"1\" class=\"dataframe\">\n",
       "  <thead>\n",
       "    <tr style=\"text-align: right;\">\n",
       "      <th></th>\n",
       "      <th>SP124323</th>\n",
       "      <th>SP124281</th>\n",
       "      <th>SP124389</th>\n",
       "      <th>SP124362</th>\n",
       "      <th>SP124394</th>\n",
       "      <th>SP124380</th>\n",
       "      <th>SP124399</th>\n",
       "      <th>SP124311</th>\n",
       "      <th>SP124434</th>\n",
       "      <th>SP124428</th>\n",
       "      <th>...</th>\n",
       "      <th>SP124271</th>\n",
       "      <th>SP124336</th>\n",
       "      <th>SP124441</th>\n",
       "      <th>SP124291</th>\n",
       "      <th>SP82471</th>\n",
       "      <th>SP124353</th>\n",
       "      <th>SP113197</th>\n",
       "      <th>SP83027</th>\n",
       "      <th>SP124351</th>\n",
       "      <th>SP124458</th>\n",
       "    </tr>\n",
       "  </thead>\n",
       "  <tbody>\n",
       "    <tr>\n",
       "      <th>SBS1</th>\n",
       "      <td>288.393161</td>\n",
       "      <td>169.567787</td>\n",
       "      <td>0.000000</td>\n",
       "      <td>0.000000</td>\n",
       "      <td>0.000000</td>\n",
       "      <td>0.000000</td>\n",
       "      <td>0.000000</td>\n",
       "      <td>0.000000</td>\n",
       "      <td>0.000000</td>\n",
       "      <td>0.000000</td>\n",
       "      <td>...</td>\n",
       "      <td>693.524088</td>\n",
       "      <td>332.917468</td>\n",
       "      <td>616.285580</td>\n",
       "      <td>259.169218</td>\n",
       "      <td>480.145895</td>\n",
       "      <td>333.934288</td>\n",
       "      <td>487.482498</td>\n",
       "      <td>703.455047</td>\n",
       "      <td>0.000000</td>\n",
       "      <td>0.000000</td>\n",
       "    </tr>\n",
       "    <tr>\n",
       "      <th>SBS2</th>\n",
       "      <td>167.557017</td>\n",
       "      <td>273.695417</td>\n",
       "      <td>0.000000</td>\n",
       "      <td>0.000000</td>\n",
       "      <td>0.000000</td>\n",
       "      <td>0.000000</td>\n",
       "      <td>0.000000</td>\n",
       "      <td>0.000000</td>\n",
       "      <td>0.000000</td>\n",
       "      <td>0.000000</td>\n",
       "      <td>...</td>\n",
       "      <td>987.785312</td>\n",
       "      <td>0.000000</td>\n",
       "      <td>508.738968</td>\n",
       "      <td>482.746520</td>\n",
       "      <td>203.400891</td>\n",
       "      <td>247.159271</td>\n",
       "      <td>379.853157</td>\n",
       "      <td>0.000000</td>\n",
       "      <td>0.000000</td>\n",
       "      <td>0.000000</td>\n",
       "    </tr>\n",
       "    <tr>\n",
       "      <th>SBS3</th>\n",
       "      <td>0.000000</td>\n",
       "      <td>0.000000</td>\n",
       "      <td>0.000000</td>\n",
       "      <td>0.000000</td>\n",
       "      <td>0.000000</td>\n",
       "      <td>0.000000</td>\n",
       "      <td>0.000000</td>\n",
       "      <td>0.000000</td>\n",
       "      <td>0.000000</td>\n",
       "      <td>0.000000</td>\n",
       "      <td>...</td>\n",
       "      <td>8517.941793</td>\n",
       "      <td>2414.405614</td>\n",
       "      <td>3971.791764</td>\n",
       "      <td>2044.878553</td>\n",
       "      <td>2730.740793</td>\n",
       "      <td>1244.404530</td>\n",
       "      <td>1966.843710</td>\n",
       "      <td>1678.780082</td>\n",
       "      <td>0.000000</td>\n",
       "      <td>0.000000</td>\n",
       "    </tr>\n",
       "    <tr>\n",
       "      <th>SBS5</th>\n",
       "      <td>2008.808159</td>\n",
       "      <td>1652.380668</td>\n",
       "      <td>3082.909458</td>\n",
       "      <td>0.000000</td>\n",
       "      <td>0.000000</td>\n",
       "      <td>7176.323630</td>\n",
       "      <td>12292.269666</td>\n",
       "      <td>12662.358966</td>\n",
       "      <td>8833.091168</td>\n",
       "      <td>0.000000</td>\n",
       "      <td>...</td>\n",
       "      <td>4315.169130</td>\n",
       "      <td>1745.713967</td>\n",
       "      <td>3078.015560</td>\n",
       "      <td>1778.661931</td>\n",
       "      <td>1041.596285</td>\n",
       "      <td>878.093767</td>\n",
       "      <td>1379.926582</td>\n",
       "      <td>1480.546286</td>\n",
       "      <td>968.715073</td>\n",
       "      <td>0.000000</td>\n",
       "    </tr>\n",
       "    <tr>\n",
       "      <th>SBS7a</th>\n",
       "      <td>0.000000</td>\n",
       "      <td>0.000000</td>\n",
       "      <td>52166.001371</td>\n",
       "      <td>170225.691472</td>\n",
       "      <td>83299.155332</td>\n",
       "      <td>113082.240584</td>\n",
       "      <td>122366.120452</td>\n",
       "      <td>56131.255876</td>\n",
       "      <td>58914.001615</td>\n",
       "      <td>241281.212297</td>\n",
       "      <td>...</td>\n",
       "      <td>3337.867553</td>\n",
       "      <td>656.226823</td>\n",
       "      <td>0.000000</td>\n",
       "      <td>281.663489</td>\n",
       "      <td>0.000000</td>\n",
       "      <td>0.000000</td>\n",
       "      <td>0.000000</td>\n",
       "      <td>930.789434</td>\n",
       "      <td>2900.935916</td>\n",
       "      <td>107212.905792</td>\n",
       "    </tr>\n",
       "  </tbody>\n",
       "</table>\n",
       "<p>5 rows × 107 columns</p>\n",
       "</div>"
      ],
      "text/plain": [
       "          SP124323     SP124281      SP124389       SP124362      SP124394  \\\n",
       "SBS1    288.393161   169.567787      0.000000       0.000000      0.000000   \n",
       "SBS2    167.557017   273.695417      0.000000       0.000000      0.000000   \n",
       "SBS3      0.000000     0.000000      0.000000       0.000000      0.000000   \n",
       "SBS5   2008.808159  1652.380668   3082.909458       0.000000      0.000000   \n",
       "SBS7a     0.000000     0.000000  52166.001371  170225.691472  83299.155332   \n",
       "\n",
       "            SP124380       SP124399      SP124311      SP124434  \\\n",
       "SBS1        0.000000       0.000000      0.000000      0.000000   \n",
       "SBS2        0.000000       0.000000      0.000000      0.000000   \n",
       "SBS3        0.000000       0.000000      0.000000      0.000000   \n",
       "SBS5     7176.323630   12292.269666  12662.358966   8833.091168   \n",
       "SBS7a  113082.240584  122366.120452  56131.255876  58914.001615   \n",
       "\n",
       "            SP124428  ...     SP124271     SP124336     SP124441     SP124291  \\\n",
       "SBS1        0.000000  ...   693.524088   332.917468   616.285580   259.169218   \n",
       "SBS2        0.000000  ...   987.785312     0.000000   508.738968   482.746520   \n",
       "SBS3        0.000000  ...  8517.941793  2414.405614  3971.791764  2044.878553   \n",
       "SBS5        0.000000  ...  4315.169130  1745.713967  3078.015560  1778.661931   \n",
       "SBS7a  241281.212297  ...  3337.867553   656.226823     0.000000   281.663489   \n",
       "\n",
       "           SP82471     SP124353     SP113197      SP83027     SP124351  \\\n",
       "SBS1    480.145895   333.934288   487.482498   703.455047     0.000000   \n",
       "SBS2    203.400891   247.159271   379.853157     0.000000     0.000000   \n",
       "SBS3   2730.740793  1244.404530  1966.843710  1678.780082     0.000000   \n",
       "SBS5   1041.596285   878.093767  1379.926582  1480.546286   968.715073   \n",
       "SBS7a     0.000000     0.000000     0.000000   930.789434  2900.935916   \n",
       "\n",
       "            SP124458  \n",
       "SBS1        0.000000  \n",
       "SBS2        0.000000  \n",
       "SBS3        0.000000  \n",
       "SBS5        0.000000  \n",
       "SBS7a  107212.905792  \n",
       "\n",
       "[5 rows x 107 columns]"
      ]
     },
     "execution_count": 17,
     "metadata": {},
     "output_type": "execute_result"
    }
   ],
   "source": [
    "H.head()"
   ]
  },
  {
   "cell_type": "markdown",
   "metadata": {},
   "source": [
    "Again, we can compare to `H_true` to evaluate the result."
   ]
  },
  {
   "cell_type": "code",
   "execution_count": 18,
   "metadata": {},
   "outputs": [],
   "source": [
    "H_true_reindexed = H_true.reindex(H.index).fillna(0)"
   ]
  },
  {
   "cell_type": "code",
   "execution_count": 19,
   "metadata": {},
   "outputs": [
    {
     "name": "stdout",
     "output_type": "stream",
     "text": [
      "423 3 1178 1 424 1181\n"
     ]
    }
   ],
   "source": [
    "TP = np.logical_and(H_true_reindexed > 0, H > 0).sum().sum()\n",
    "FP = np.logical_and(H_true_reindexed == 0, H > 0).sum().sum()\n",
    "TN = np.logical_and(H_true_reindexed == 0, H == 0).sum().sum()\n",
    "FN = np.logical_and(H_true_reindexed > 0, H == 0).sum().sum()\n",
    "P = TP + FN\n",
    "N = TN + FP\n",
    "print(TP, FP, TN, FN, P, N)"
   ]
  },
  {
   "cell_type": "code",
   "execution_count": 20,
   "metadata": {},
   "outputs": [
    {
     "name": "stdout",
     "output_type": "stream",
     "text": [
      "Sensitivity = 0.998\n",
      "False positive rate = 0.00254\n"
     ]
    }
   ],
   "source": [
    "print('Sensitivity = %.3g' % (TP/P))\n",
    "print('False positive rate = %.3g' % (FP/N))"
   ]
  },
  {
   "cell_type": "markdown",
   "metadata": {},
   "source": [
    "We see that the false positive rate is dramatically reduced, while the sensitivity is still reasonably high. "
   ]
  },
  {
   "cell_type": "code",
   "execution_count": null,
   "metadata": {},
   "outputs": [],
   "source": []
  },
  {
   "cell_type": "markdown",
   "metadata": {},
   "source": [
    "# Comments "
   ]
  },
  {
   "cell_type": "markdown",
   "metadata": {},
   "source": [
    "1. Matching *de novo* signatures to the catalog can be performed with `musical.refit.match()` in a similar way as described above, except that in matching, `X` will be the matrix of signatures to be matched. \n",
    "\n",
    "2. The `model` variable above is a `SparseNNLS` object. It provides many other attributes that are convenient. For example, `model.X_reconstructed` is the reconstructed mutation count matrix. `model.cos_similarities` is the cosine similarities between original data and the reconstructed spectra.  \n",
    "\n",
    "3. Associated signatures (e.g., APOBEC signatures SBS2 and SBS13) can be forced to co-occur using the option `connected_sigs=True` (by default it is set to `False`). "
   ]
  },
  {
   "cell_type": "code",
   "execution_count": null,
   "metadata": {},
   "outputs": [],
   "source": []
  },
  {
   "cell_type": "code",
   "execution_count": null,
   "metadata": {},
   "outputs": [],
   "source": []
  },
  {
   "cell_type": "code",
   "execution_count": null,
   "metadata": {},
   "outputs": [],
   "source": []
  },
  {
   "cell_type": "code",
   "execution_count": null,
   "metadata": {},
   "outputs": [],
   "source": []
  }
 ],
 "metadata": {
  "kernelspec": {
   "display_name": "Python 3 (ipykernel)",
   "language": "python",
   "name": "python3"
  },
  "language_info": {
   "codemirror_mode": {
    "name": "ipython",
    "version": 3
   },
   "file_extension": ".py",
   "mimetype": "text/x-python",
   "name": "python",
   "nbconvert_exporter": "python",
   "pygments_lexer": "ipython3",
   "version": "3.9.6"
  },
  "latex_envs": {
   "LaTeX_envs_menu_present": true,
   "autoclose": false,
   "autocomplete": true,
   "bibliofile": "biblio.bib",
   "cite_by": "apalike",
   "current_citInitial": 1,
   "eqLabelWithNumbers": true,
   "eqNumInitial": 1,
   "hotkeys": {
    "equation": "Ctrl-E",
    "itemize": "Ctrl-I"
   },
   "labels_anchors": false,
   "latex_user_defs": false,
   "report_style_numbering": false,
   "user_envs_cfg": false
  },
  "toc": {
   "base_numbering": 1,
   "nav_menu": {},
   "number_sections": true,
   "sideBar": true,
   "skip_h1_title": false,
   "title_cell": "Table of Contents",
   "title_sidebar": "Contents",
   "toc_cell": false,
   "toc_position": {},
   "toc_section_display": true,
   "toc_window_display": true
  }
 },
 "nbformat": 4,
 "nbformat_minor": 4
}
