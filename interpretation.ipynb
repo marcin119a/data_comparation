{
 "cells": [
  {
   "cell_type": "code",
   "execution_count": 2,
   "id": "94ac46d0-bccf-4020-a7ce-0d8db7f35f5d",
   "metadata": {},
   "outputs": [
    {
     "data": {
      "text/html": [
       "<div>\n",
       "<style scoped>\n",
       "    .dataframe tbody tr th:only-of-type {\n",
       "        vertical-align: middle;\n",
       "    }\n",
       "\n",
       "    .dataframe tbody tr th {\n",
       "        vertical-align: top;\n",
       "    }\n",
       "\n",
       "    .dataframe thead th {\n",
       "        text-align: right;\n",
       "    }\n",
       "</style>\n",
       "<table border=\"1\" class=\"dataframe\">\n",
       "  <thead>\n",
       "    <tr style=\"text-align: right;\">\n",
       "      <th></th>\n",
       "      <th>findSigExposures</th>\n",
       "      <th>best_columns</th>\n",
       "      <th>Sample Names</th>\n",
       "      <th>Cancer Types</th>\n",
       "    </tr>\n",
       "  </thead>\n",
       "  <tbody>\n",
       "    <tr>\n",
       "      <th>0</th>\n",
       "      <td>0.092256</td>\n",
       "      <td>0</td>\n",
       "      <td>SP95550</td>\n",
       "      <td>Uterus-AdenoCA</td>\n",
       "    </tr>\n",
       "    <tr>\n",
       "      <th>1</th>\n",
       "      <td>0.063790</td>\n",
       "      <td>1</td>\n",
       "      <td>SP95550</td>\n",
       "      <td>Uterus-AdenoCA</td>\n",
       "    </tr>\n",
       "    <tr>\n",
       "      <th>2</th>\n",
       "      <td>0.158236</td>\n",
       "      <td>4</td>\n",
       "      <td>SP95550</td>\n",
       "      <td>Uterus-AdenoCA</td>\n",
       "    </tr>\n",
       "    <tr>\n",
       "      <th>3</th>\n",
       "      <td>0.099229</td>\n",
       "      <td>16</td>\n",
       "      <td>SP95550</td>\n",
       "      <td>Uterus-AdenoCA</td>\n",
       "    </tr>\n",
       "    <tr>\n",
       "      <th>4</th>\n",
       "      <td>0.586489</td>\n",
       "      <td>44</td>\n",
       "      <td>SP95550</td>\n",
       "      <td>Uterus-AdenoCA</td>\n",
       "    </tr>\n",
       "  </tbody>\n",
       "</table>\n",
       "</div>"
      ],
      "text/plain": [
       "   findSigExposures  best_columns Sample Names    Cancer Types\n",
       "0          0.092256             0      SP95550  Uterus-AdenoCA\n",
       "1          0.063790             1      SP95550  Uterus-AdenoCA\n",
       "2          0.158236             4      SP95550  Uterus-AdenoCA\n",
       "3          0.099229            16      SP95550  Uterus-AdenoCA\n",
       "4          0.586489            44      SP95550  Uterus-AdenoCA"
      ]
     },
     "execution_count": 2,
     "metadata": {},
     "output_type": "execute_result"
    }
   ],
   "source": [
    "import pandas as pd\n",
    "\n",
    "ground_truth_df = pd.read_csv('ground_truth.csv', index_col=0)\n",
    "ground_truth_df.columns = ['findSigExposures',\t'best_columns',\t'Sample Names',\t'Cancer Types']\n",
    "ground_truth_df.head()\n"
   ]
  },
  {
   "cell_type": "code",
   "execution_count": 3,
   "id": "3ccdcb97-bfc2-43e8-b5f1-f88a5415806b",
   "metadata": {},
   "outputs": [
    {
     "data": {
      "text/html": [
       "<div>\n",
       "<style scoped>\n",
       "    .dataframe tbody tr th:only-of-type {\n",
       "        vertical-align: middle;\n",
       "    }\n",
       "\n",
       "    .dataframe tbody tr th {\n",
       "        vertical-align: top;\n",
       "    }\n",
       "\n",
       "    .dataframe thead th {\n",
       "        text-align: right;\n",
       "    }\n",
       "</style>\n",
       "<table border=\"1\" class=\"dataframe\">\n",
       "  <thead>\n",
       "    <tr style=\"text-align: right;\">\n",
       "      <th></th>\n",
       "      <th>findSigExposures</th>\n",
       "      <th>best_columns</th>\n",
       "      <th>Sample Names</th>\n",
       "      <th>Cancer Types</th>\n",
       "    </tr>\n",
       "  </thead>\n",
       "  <tbody>\n",
       "    <tr>\n",
       "      <th>0</th>\n",
       "      <td>0.092292</td>\n",
       "      <td>0</td>\n",
       "      <td>SP95550</td>\n",
       "      <td>Uterus-AdenoCA</td>\n",
       "    </tr>\n",
       "    <tr>\n",
       "      <th>1</th>\n",
       "      <td>0.063734</td>\n",
       "      <td>1</td>\n",
       "      <td>SP95550</td>\n",
       "      <td>Uterus-AdenoCA</td>\n",
       "    </tr>\n",
       "    <tr>\n",
       "      <th>2</th>\n",
       "      <td>0.158121</td>\n",
       "      <td>4</td>\n",
       "      <td>SP95550</td>\n",
       "      <td>Uterus-AdenoCA</td>\n",
       "    </tr>\n",
       "    <tr>\n",
       "      <th>3</th>\n",
       "      <td>0.099349</td>\n",
       "      <td>16</td>\n",
       "      <td>SP95550</td>\n",
       "      <td>Uterus-AdenoCA</td>\n",
       "    </tr>\n",
       "    <tr>\n",
       "      <th>4</th>\n",
       "      <td>0.586503</td>\n",
       "      <td>44</td>\n",
       "      <td>SP95550</td>\n",
       "      <td>Uterus-AdenoCA</td>\n",
       "    </tr>\n",
       "  </tbody>\n",
       "</table>\n",
       "</div>"
      ],
      "text/plain": [
       "   findSigExposures  best_columns Sample Names    Cancer Types\n",
       "0          0.092292             0      SP95550  Uterus-AdenoCA\n",
       "1          0.063734             1      SP95550  Uterus-AdenoCA\n",
       "2          0.158121             4      SP95550  Uterus-AdenoCA\n",
       "3          0.099349            16      SP95550  Uterus-AdenoCA\n",
       "4          0.586503            44      SP95550  Uterus-AdenoCA"
      ]
     },
     "execution_count": 3,
     "metadata": {},
     "output_type": "execute_result"
    }
   ],
   "source": [
    "experiment_df = pd.read_csv('/home/amso/Documents/mutation_signatures/output/experiment.csv', index_col=0)\n",
    "experiment_df.columns = ['findSigExposures',\t'best_columns',\t'Sample Names',\t'Cancer Types']\n",
    "experiment_df.head()"
   ]
  },
  {
   "cell_type": "code",
   "execution_count": 4,
   "id": "ffebd599-d411-4037-a61d-1f47db4ce62d",
   "metadata": {},
   "outputs": [
    {
     "data": {
      "text/html": [
       "<div>\n",
       "<style scoped>\n",
       "    .dataframe tbody tr th:only-of-type {\n",
       "        vertical-align: middle;\n",
       "    }\n",
       "\n",
       "    .dataframe tbody tr th {\n",
       "        vertical-align: top;\n",
       "    }\n",
       "\n",
       "    .dataframe thead th {\n",
       "        text-align: right;\n",
       "    }\n",
       "</style>\n",
       "<table border=\"1\" class=\"dataframe\">\n",
       "  <thead>\n",
       "    <tr style=\"text-align: right;\">\n",
       "      <th></th>\n",
       "      <th>findSigExposures</th>\n",
       "      <th>best_columns</th>\n",
       "      <th>Sample Names</th>\n",
       "      <th>Cancer Types</th>\n",
       "    </tr>\n",
       "  </thead>\n",
       "  <tbody>\n",
       "    <tr>\n",
       "      <th>0</th>\n",
       "      <td>0.092292</td>\n",
       "      <td>0</td>\n",
       "      <td>SP95550</td>\n",
       "      <td>Uterus-AdenoCA</td>\n",
       "    </tr>\n",
       "    <tr>\n",
       "      <th>1</th>\n",
       "      <td>0.063844</td>\n",
       "      <td>1</td>\n",
       "      <td>SP95550</td>\n",
       "      <td>Uterus-AdenoCA</td>\n",
       "    </tr>\n",
       "    <tr>\n",
       "      <th>2</th>\n",
       "      <td>0.158231</td>\n",
       "      <td>4</td>\n",
       "      <td>SP95550</td>\n",
       "      <td>Uterus-AdenoCA</td>\n",
       "    </tr>\n",
       "    <tr>\n",
       "      <th>3</th>\n",
       "      <td>0.099239</td>\n",
       "      <td>16</td>\n",
       "      <td>SP95550</td>\n",
       "      <td>Uterus-AdenoCA</td>\n",
       "    </tr>\n",
       "    <tr>\n",
       "      <th>4</th>\n",
       "      <td>0.586393</td>\n",
       "      <td>44</td>\n",
       "      <td>SP95550</td>\n",
       "      <td>Uterus-AdenoCA</td>\n",
       "    </tr>\n",
       "  </tbody>\n",
       "</table>\n",
       "</div>"
      ],
      "text/plain": [
       "   findSigExposures  best_columns Sample Names    Cancer Types\n",
       "0          0.092292             0      SP95550  Uterus-AdenoCA\n",
       "1          0.063844             1      SP95550  Uterus-AdenoCA\n",
       "2          0.158231             4      SP95550  Uterus-AdenoCA\n",
       "3          0.099239            16      SP95550  Uterus-AdenoCA\n",
       "4          0.586393            44      SP95550  Uterus-AdenoCA"
      ]
     },
     "execution_count": 4,
     "metadata": {},
     "output_type": "execute_result"
    }
   ],
   "source": [
    "experiment_sig_profiler_df = pd.read_csv('experiment_sig_profiles.csv', index_col=0)\n",
    "experiment_sig_profiler_df.columns = ['findSigExposures',\t'best_columns',\t'Sample Names',\t'Cancer Types']\n",
    "experiment_sig_profiler_df.head()"
   ]
  },
  {
   "cell_type": "code",
   "execution_count": 5,
   "id": "8ef09edf-1332-48c1-b6cb-7a56c68d63ce",
   "metadata": {},
   "outputs": [],
   "source": [
    "def calculate_metrics(predicted, actual, total_values):\n",
    "    predicted_set = set(predicted)\n",
    "    actual_set = set(actual)\n",
    "    all_values_set = set(range(total_values))\n",
    "\n",
    "    true_positives = len(predicted_set.intersection(actual_set))\n",
    "    true_negatives = len(all_values_set.difference(actual_set).difference(predicted_set))\n",
    "\n",
    "    false_negatives = actual_set.difference(predicted_set)\n",
    "    false_positives = predicted_set.difference(actual_set)\n",
    "\n",
    "    total_positives = len(actual_set)\n",
    "    total_negatives = total_values - total_positives\n",
    "\n",
    "    sensitivity = true_positives / total_positives if total_positives else 0\n",
    "    specificity = true_negatives / total_negatives if total_negatives else 0\n",
    "\n",
    "    return sensitivity, specificity, false_negatives, false_positives\n"
   ]
  },
  {
   "cell_type": "code",
   "execution_count": 11,
   "id": "311bd73a-ed0d-468f-8f14-c839b59be90a",
   "metadata": {},
   "outputs": [
    {
     "name": "stdout",
     "output_type": "stream",
     "text": [
      "error: patient SP86775\n",
      "error: patient SP85818\n"
     ]
    }
   ],
   "source": [
    "import pandas as pd\n",
    "\n",
    "results = []\n",
    "total_values = 67\n",
    "\n",
    "for patient in ground_truth_df['Sample Names'].unique():\n",
    "    try:\n",
    "        actual = ground_truth_df.groupby('Sample Names').get_group(patient)['best_columns'].tolist()\n",
    "        predicted = experiment_df.groupby('Sample Names').get_group(patient)['best_columns'].tolist()\n",
    "        predicted_sig_profile = experiment_sig_profiler_df.groupby('Sample Names').get_group(patient)['best_columns'].tolist()\n",
    "    except:\n",
    "        print(f'error: patient', patient)\n",
    "        continue\n",
    "    sensitivity, specificity, false_negatives, false_positives = calculate_metrics(predicted, actual, total_values)\n",
    "    sensitivity_sig_profile, specificity_sig_profile, false_negatives_sig_profile, false_positives_sig_profile = calculate_metrics(predicted_sig_profile, actual, total_values)\n",
    "\n",
    "    results.append({\n",
    "        'Pacjent': patient,\n",
    "        'Sensitivity_our': sensitivity,\n",
    "        'Specificity_our': specificity,\n",
    "        'Sensitivity_sig_profile':sensitivity_sig_profile,\n",
    "        'Specificity_sig_profile':specificity_sig_profile,\n",
    "        'false_negatives_our':  {} if len(false_negatives) == 0 else false_negatives,\n",
    "        'false_positives_our': {} if len(false_positives) == 0 else false_positives,\n",
    "        'false_negatives_sig_profile':  {} if len(false_negatives_sig_profile) == 0 else false_negatives_sig_profile,\n",
    "        'false_positives_sig_profile': {} if len(false_positives_sig_profile) == 0 else false_positives_sig_profile\n",
    "    })\n",
    "\n",
    "# Tworzenie DataFrame z wynikami\n",
    "results_df = pd.DataFrame(results)\n"
   ]
  },
  {
   "cell_type": "code",
   "execution_count": 12,
   "id": "733deb45-3243-417f-9b83-5d38d64318fe",
   "metadata": {},
   "outputs": [
    {
     "data": {
      "text/plain": [
       "(0.9896699192868329, 0.9892055460902588)"
      ]
     },
     "execution_count": 12,
     "metadata": {},
     "output_type": "execute_result"
    }
   ],
   "source": [
    "results_df['Sensitivity_our'].mean(), results_df['Sensitivity_sig_profile'].mean()"
   ]
  },
  {
   "cell_type": "code",
   "execution_count": 13,
   "id": "a2fdca9e-7614-469b-8cbf-7b184c6b1510",
   "metadata": {},
   "outputs": [
    {
     "data": {
      "text/plain": [
       "(0.9963731161814123, 0.9963115913065274)"
      ]
     },
     "execution_count": 13,
     "metadata": {},
     "output_type": "execute_result"
    }
   ],
   "source": [
    "results_df['Specificity_our'].mean(), results_df['Specificity_sig_profile'].mean()"
   ]
  },
  {
   "cell_type": "code",
   "execution_count": 14,
   "id": "5e76cabf-79fa-4e33-9ba7-b712a65071a2",
   "metadata": {},
   "outputs": [],
   "source": [
    "import seaborn as sns"
   ]
  },
  {
   "cell_type": "code",
   "execution_count": 15,
   "id": "2d75ced6-2056-474f-88c3-fc663188bcdf",
   "metadata": {},
   "outputs": [
    {
     "data": {
      "image/png": "[encoded data removed]",
      "text/plain": [
       "<Figure size 640x480 with 1 Axes>"
      ]
     },
     "metadata": {},
     "output_type": "display_data"
    }
   ],
   "source": [
    "import seaborn as sns\n",
    "import matplotlib.pyplot as plt\n",
    "import pandas as pd\n",
    "\n",
    "# Przekształcenie DataFrame\n",
    "melted_df = results_df.melt(value_vars=['Specificity_our', 'Specificity_sig_profile'], var_name='Metric', value_name='Value')\n",
    "\n",
    "# Tworzenie wykresu violin plot\n",
    "sns.boxplot(x='Metric', y='Value', data=melted_df)\n",
    "\n",
    "# Dodanie tytułu i etykiet\n",
    "plt.title('Porównanie Specificity')\n",
    "plt.xlabel('Metrika')\n",
    "plt.ylabel('Value')\n",
    "\n",
    "# Wyświetlenie wykresu\n",
    "plt.show()\n"
   ]
  },
  {
   "cell_type": "code",
   "execution_count": 16,
   "id": "c0523600-371e-4481-8fe2-8fd2829d4ed6",
   "metadata": {},
   "outputs": [
    {
     "data": {
      "image/png": "[encoded data removed]",
      "text/plain": [
       "<Figure size 640x480 with 1 Axes>"
      ]
     },
     "metadata": {},
     "output_type": "display_data"
    }
   ],
   "source": [
    "import seaborn as sns\n",
    "import matplotlib.pyplot as plt\n",
    "import pandas as pd\n",
    "\n",
    "# Przekształcenie DataFrame\n",
    "melted_df = results_df.melt(value_vars=['Sensitivity_our', 'Sensitivity_sig_profile'], var_name='Metric', value_name='Value')\n",
    "\n",
    "# Tworzenie wykresu violin plot\n",
    "sns.boxplot(x='Metric', y='Value', data=melted_df)\n",
    "\n",
    "# Dodanie tytułu i etykiet\n",
    "plt.title('Porównanie Sensitivity')\n",
    "plt.xlabel('Sensitivity')\n",
    "plt.ylabel('Value')\n",
    "\n",
    "# Wyświetlenie wykresu\n",
    "plt.show()\n"
   ]
  },
  {
   "cell_type": "code",
   "execution_count": 17,
   "id": "281d26b8-8e51-4677-9f6d-f67d087341e8",
   "metadata": {},
   "outputs": [],
   "source": [
    "import pandas as pd\n",
    "\n",
    "signatures_false_negatives_our, signatures_false_positives_our = [], []\n",
    "signatures_false_negatives_sig_profile, signatures_false_positives_sig_profile = [], []\n",
    "\n",
    "for idx, row in results_df.iterrows():\n",
    "    for item in row['false_negatives_our']:\n",
    "      signatures_false_negatives_our.append({'Pacjent': row['Pacjent'], 'signature_false_negatives_our': item})\n",
    "    for item in row['false_positives_our']:\n",
    "      signatures_false_positives_our.append({'Pacjent': row['Pacjent'], 'signature_false_positives_our': item})\n",
    "    \n",
    "    for item in row['false_negatives_sig_profile']:\n",
    "      signatures_false_negatives_sig_profile.append({'Pacjent': row['Pacjent'], 'signature_false_negatives_sig_profile': item})\n",
    "    for item in row['false_positives_sig_profile']:\n",
    "      signatures_false_positives_sig_profile.append({'Pacjent': row['Pacjent'], 'signature_false_positives_sig_profile': item})\n",
    "\n",
    "# Teraz możesz wykonać grupowanie na podstawie elementów\n",
    "grouped_fn_our = pd.DataFrame(signatures_false_negatives_our).groupby('signature_false_negatives_our').count().reset_index()\n",
    "grouped_fp_our = pd.DataFrame(signatures_false_positives_our).groupby('signature_false_positives_our').count().reset_index()\n",
    "grouped_fn_sig_profile = pd.DataFrame(signatures_false_negatives_sig_profile).groupby('signature_false_negatives_sig_profile').count().reset_index()\n",
    "grouped_fp_sig_profile = pd.DataFrame(signatures_false_positives_sig_profile).groupby('signature_false_positives_sig_profile').count().reset_index()"
   ]
  },
  {
   "cell_type": "code",
   "execution_count": 64,
   "id": "637abf17-4f2c-4606-893c-b9720e563074",
   "metadata": {},
   "outputs": [
    {
     "data": {
      "text/plain": [
       "131"
      ]
     },
     "execution_count": 64,
     "metadata": {},
     "output_type": "execute_result"
    }
   ],
   "source": [
    "grouped_fn_sig_profile['Pacjent'].sum()"
   ]
  },
  {
   "cell_type": "code",
   "execution_count": 63,
   "id": "547ab187-f8a7-4903-a94e-ec5aa1dfc90c",
   "metadata": {},
   "outputs": [
    {
     "data": {
      "text/plain": [
       "118"
      ]
     },
     "execution_count": 63,
     "metadata": {},
     "output_type": "execute_result"
    }
   ],
   "source": [
    "grouped_fn_our['Pacjent'].sum()"
   ]
  },
  {
   "cell_type": "code",
   "execution_count": 66,
   "id": "5c4509b3-c812-45bb-9da8-f6c4a8417616",
   "metadata": {},
   "outputs": [
    {
     "data": {
      "text/plain": [
       "635"
      ]
     },
     "execution_count": 66,
     "metadata": {},
     "output_type": "execute_result"
    }
   ],
   "source": [
    "grouped_fp_our['Pacjent'].sum()"
   ]
  },
  {
   "cell_type": "code",
   "execution_count": 68,
   "id": "8b4cd1d1-98ab-4b89-a33c-9b5fff111d4a",
   "metadata": {},
   "outputs": [
    {
     "data": {
      "text/plain": [
       "131"
      ]
     },
     "execution_count": 68,
     "metadata": {},
     "output_type": "execute_result"
    }
   ],
   "source": [
    "grouped_fn_sig_profile['Pacjent'].sum()"
   ]
  },
  {
   "cell_type": "code",
   "execution_count": 69,
   "id": "f3335521-5bde-463f-a879-9384e81c083d",
   "metadata": {},
   "outputs": [
    {
     "data": {
      "text/plain": [
       "118"
      ]
     },
     "execution_count": 69,
     "metadata": {},
     "output_type": "execute_result"
    }
   ],
   "source": [
    "grouped_fn_our['Pacjent'].sum()"
   ]
  },
  {
   "cell_type": "code",
   "execution_count": 73,
   "id": "2fed7d9a-7e41-436d-8761-384d23850551",
   "metadata": {},
   "outputs": [
    {
     "data": {
      "text/html": [
       "<div>\n",
       "<style scoped>\n",
       "    .dataframe tbody tr th:only-of-type {\n",
       "        vertical-align: middle;\n",
       "    }\n",
       "\n",
       "    .dataframe tbody tr th {\n",
       "        vertical-align: top;\n",
       "    }\n",
       "\n",
       "    .dataframe thead th {\n",
       "        text-align: right;\n",
       "    }\n",
       "</style>\n",
       "<table border=\"1\" class=\"dataframe\">\n",
       "  <thead>\n",
       "    <tr style=\"text-align: right;\">\n",
       "      <th></th>\n",
       "      <th>signature_false_negatives_our</th>\n",
       "      <th>Pacjent_x</th>\n",
       "      <th>signature_false_negatives_sig_profile</th>\n",
       "      <th>Pacjent_y</th>\n",
       "    </tr>\n",
       "  </thead>\n",
       "  <tbody>\n",
       "    <tr>\n",
       "      <th>0</th>\n",
       "      <td>5.0</td>\n",
       "      <td>4.0</td>\n",
       "      <td>5.0</td>\n",
       "      <td>5.0</td>\n",
       "    </tr>\n",
       "    <tr>\n",
       "      <th>1</th>\n",
       "      <td>10.0</td>\n",
       "      <td>2.0</td>\n",
       "      <td>10.0</td>\n",
       "      <td>2.0</td>\n",
       "    </tr>\n",
       "    <tr>\n",
       "      <th>2</th>\n",
       "      <td>14.0</td>\n",
       "      <td>1.0</td>\n",
       "      <td>14.0</td>\n",
       "      <td>1.0</td>\n",
       "    </tr>\n",
       "    <tr>\n",
       "      <th>3</th>\n",
       "      <td>15.0</td>\n",
       "      <td>26.0</td>\n",
       "      <td>15.0</td>\n",
       "      <td>25.0</td>\n",
       "    </tr>\n",
       "    <tr>\n",
       "      <th>4</th>\n",
       "      <td>17.0</td>\n",
       "      <td>1.0</td>\n",
       "      <td>17.0</td>\n",
       "      <td>1.0</td>\n",
       "    </tr>\n",
       "    <tr>\n",
       "      <th>5</th>\n",
       "      <td>19.0</td>\n",
       "      <td>3.0</td>\n",
       "      <td>19.0</td>\n",
       "      <td>3.0</td>\n",
       "    </tr>\n",
       "    <tr>\n",
       "      <th>6</th>\n",
       "      <td>22.0</td>\n",
       "      <td>3.0</td>\n",
       "      <td>22.0</td>\n",
       "      <td>3.0</td>\n",
       "    </tr>\n",
       "    <tr>\n",
       "      <th>7</th>\n",
       "      <td>30.0</td>\n",
       "      <td>1.0</td>\n",
       "      <td>0.0</td>\n",
       "      <td>0.0</td>\n",
       "    </tr>\n",
       "    <tr>\n",
       "      <th>8</th>\n",
       "      <td>33.0</td>\n",
       "      <td>7.0</td>\n",
       "      <td>33.0</td>\n",
       "      <td>7.0</td>\n",
       "    </tr>\n",
       "    <tr>\n",
       "      <th>9</th>\n",
       "      <td>34.0</td>\n",
       "      <td>19.0</td>\n",
       "      <td>34.0</td>\n",
       "      <td>16.0</td>\n",
       "    </tr>\n",
       "    <tr>\n",
       "      <th>10</th>\n",
       "      <td>36.0</td>\n",
       "      <td>6.0</td>\n",
       "      <td>36.0</td>\n",
       "      <td>6.0</td>\n",
       "    </tr>\n",
       "    <tr>\n",
       "      <th>11</th>\n",
       "      <td>41.0</td>\n",
       "      <td>3.0</td>\n",
       "      <td>41.0</td>\n",
       "      <td>4.0</td>\n",
       "    </tr>\n",
       "    <tr>\n",
       "      <th>12</th>\n",
       "      <td>43.0</td>\n",
       "      <td>24.0</td>\n",
       "      <td>43.0</td>\n",
       "      <td>24.0</td>\n",
       "    </tr>\n",
       "    <tr>\n",
       "      <th>13</th>\n",
       "      <td>44.0</td>\n",
       "      <td>11.0</td>\n",
       "      <td>44.0</td>\n",
       "      <td>12.0</td>\n",
       "    </tr>\n",
       "    <tr>\n",
       "      <th>14</th>\n",
       "      <td>45.0</td>\n",
       "      <td>1.0</td>\n",
       "      <td>45.0</td>\n",
       "      <td>1.0</td>\n",
       "    </tr>\n",
       "    <tr>\n",
       "      <th>15</th>\n",
       "      <td>49.0</td>\n",
       "      <td>1.0</td>\n",
       "      <td>49.0</td>\n",
       "      <td>1.0</td>\n",
       "    </tr>\n",
       "    <tr>\n",
       "      <th>16</th>\n",
       "      <td>50.0</td>\n",
       "      <td>1.0</td>\n",
       "      <td>50.0</td>\n",
       "      <td>1.0</td>\n",
       "    </tr>\n",
       "    <tr>\n",
       "      <th>17</th>\n",
       "      <td>58.0</td>\n",
       "      <td>2.0</td>\n",
       "      <td>58.0</td>\n",
       "      <td>2.0</td>\n",
       "    </tr>\n",
       "    <tr>\n",
       "      <th>18</th>\n",
       "      <td>61.0</td>\n",
       "      <td>1.0</td>\n",
       "      <td>0.0</td>\n",
       "      <td>0.0</td>\n",
       "    </tr>\n",
       "    <tr>\n",
       "      <th>19</th>\n",
       "      <td>62.0</td>\n",
       "      <td>1.0</td>\n",
       "      <td>62.0</td>\n",
       "      <td>1.0</td>\n",
       "    </tr>\n",
       "    <tr>\n",
       "      <th>20</th>\n",
       "      <td>0.0</td>\n",
       "      <td>0.0</td>\n",
       "      <td>1.0</td>\n",
       "      <td>3.0</td>\n",
       "    </tr>\n",
       "    <tr>\n",
       "      <th>21</th>\n",
       "      <td>0.0</td>\n",
       "      <td>0.0</td>\n",
       "      <td>2.0</td>\n",
       "      <td>1.0</td>\n",
       "    </tr>\n",
       "    <tr>\n",
       "      <th>22</th>\n",
       "      <td>0.0</td>\n",
       "      <td>0.0</td>\n",
       "      <td>4.0</td>\n",
       "      <td>3.0</td>\n",
       "    </tr>\n",
       "    <tr>\n",
       "      <th>23</th>\n",
       "      <td>0.0</td>\n",
       "      <td>0.0</td>\n",
       "      <td>9.0</td>\n",
       "      <td>1.0</td>\n",
       "    </tr>\n",
       "    <tr>\n",
       "      <th>24</th>\n",
       "      <td>0.0</td>\n",
       "      <td>0.0</td>\n",
       "      <td>16.0</td>\n",
       "      <td>3.0</td>\n",
       "    </tr>\n",
       "    <tr>\n",
       "      <th>25</th>\n",
       "      <td>0.0</td>\n",
       "      <td>0.0</td>\n",
       "      <td>21.0</td>\n",
       "      <td>2.0</td>\n",
       "    </tr>\n",
       "    <tr>\n",
       "      <th>26</th>\n",
       "      <td>0.0</td>\n",
       "      <td>0.0</td>\n",
       "      <td>38.0</td>\n",
       "      <td>2.0</td>\n",
       "    </tr>\n",
       "    <tr>\n",
       "      <th>27</th>\n",
       "      <td>0.0</td>\n",
       "      <td>0.0</td>\n",
       "      <td>40.0</td>\n",
       "      <td>1.0</td>\n",
       "    </tr>\n",
       "  </tbody>\n",
       "</table>\n",
       "</div>"
      ],
      "text/plain": [
       "    signature_false_negatives_our  Pacjent_x  \\\n",
       "0                             5.0        4.0   \n",
       "1                            10.0        2.0   \n",
       "2                            14.0        1.0   \n",
       "3                            15.0       26.0   \n",
       "4                            17.0        1.0   \n",
       "5                            19.0        3.0   \n",
       "6                            22.0        3.0   \n",
       "7                            30.0        1.0   \n",
       "8                            33.0        7.0   \n",
       "9                            34.0       19.0   \n",
       "10                           36.0        6.0   \n",
       "11                           41.0        3.0   \n",
       "12                           43.0       24.0   \n",
       "13                           44.0       11.0   \n",
       "14                           45.0        1.0   \n",
       "15                           49.0        1.0   \n",
       "16                           50.0        1.0   \n",
       "17                           58.0        2.0   \n",
       "18                           61.0        1.0   \n",
       "19                           62.0        1.0   \n",
       "20                            0.0        0.0   \n",
       "21                            0.0        0.0   \n",
       "22                            0.0        0.0   \n",
       "23                            0.0        0.0   \n",
       "24                            0.0        0.0   \n",
       "25                            0.0        0.0   \n",
       "26                            0.0        0.0   \n",
       "27                            0.0        0.0   \n",
       "\n",
       "    signature_false_negatives_sig_profile  Pacjent_y  \n",
       "0                                     5.0        5.0  \n",
       "1                                    10.0        2.0  \n",
       "2                                    14.0        1.0  \n",
       "3                                    15.0       25.0  \n",
       "4                                    17.0        1.0  \n",
       "5                                    19.0        3.0  \n",
       "6                                    22.0        3.0  \n",
       "7                                     0.0        0.0  \n",
       "8                                    33.0        7.0  \n",
       "9                                    34.0       16.0  \n",
       "10                                   36.0        6.0  \n",
       "11                                   41.0        4.0  \n",
       "12                                   43.0       24.0  \n",
       "13                                   44.0       12.0  \n",
       "14                                   45.0        1.0  \n",
       "15                                   49.0        1.0  \n",
       "16                                   50.0        1.0  \n",
       "17                                   58.0        2.0  \n",
       "18                                    0.0        0.0  \n",
       "19                                   62.0        1.0  \n",
       "20                                    1.0        3.0  \n",
       "21                                    2.0        1.0  \n",
       "22                                    4.0        3.0  \n",
       "23                                    9.0        1.0  \n",
       "24                                   16.0        3.0  \n",
       "25                                   21.0        2.0  \n",
       "26                                   38.0        2.0  \n",
       "27                                   40.0        1.0  "
      ]
     },
     "execution_count": 73,
     "metadata": {},
     "output_type": "execute_result"
    }
   ],
   "source": [
    "combined_df"
   ]
  },
  {
   "cell_type": "code",
   "execution_count": 86,
   "id": "29aff5ab-2547-4720-bb09-9dcc2a24f5d4",
   "metadata": {},
   "outputs": [
    {
     "data": {
      "image/png": "[encoded data removed]",
      "text/plain": [
       "<Figure size 1200x800 with 1 Axes>"
      ]
     },
     "metadata": {},
     "output_type": "display_data"
    }
   ],
   "source": [
    "combined_df = pd.merge(grouped_fn_our, grouped_fn_sig_profile, left_on='signature_false_negatives_our', right_on='signature_false_negatives_sig_profile', how='outer').fillna(0)\n",
    "fig, ax = plt.subplots(figsize=(12, 8))\n",
    "\n",
    "bar_width = 0.35\n",
    "\n",
    "index = combined_df['signature_false_negatives_our']\n",
    "\n",
    "bar1 = ax.bar(index - bar_width/2, combined_df['Pacjent_x'], bar_width, label='Our Method with model selection')\n",
    "bar2 = ax.bar(index + bar_width/2, combined_df['Pacjent_y'], bar_width, label='Sig Profiler Assigment')\n",
    "\n",
    "ax.set_xlabel('Signatures')\n",
    "ax.set_ylabel('False Negatives')\n",
    "ax.set_title('False Negatives per Signature for Two Methods')\n",
    "ax.set_xticks(index)\n",
    "ax.legend()\n",
    "\n",
    "plt.grid(axis='y', linestyle='--', alpha=0.7)\n",
    "plt.show()\n"
   ]
  },
  {
   "cell_type": "code",
   "execution_count": 88,
   "id": "1788c0ac-b1da-4a78-a6bc-067d98580db1",
   "metadata": {},
   "outputs": [
    {
     "data": {
      "image/png": "[encoded data removed]",
      "text/plain": [
       "<Figure size 1200x800 with 1 Axes>"
      ]
     },
     "metadata": {},
     "output_type": "display_data"
    }
   ],
   "source": [
    "combined_df = pd.merge(grouped_fp_our, grouped_fp_sig_profile, left_on='signature_false_positives_our', right_on='signature_false_positives_sig_profile', how='outer').fillna(0)\n",
    "fig, ax = plt.subplots(figsize=(12, 8))\n",
    "\n",
    "bar_width = 0.35\n",
    "\n",
    "index = combined_df['signature_false_positives_our'] + 1\n",
    "\n",
    "bar1 = ax.bar(index - bar_width/2, combined_df['Pacjent_x'], bar_width, label='Our Method with model selection')\n",
    "bar2 = ax.bar(index + bar_width/2, combined_df['Pacjent_y'], bar_width, label='Sig Profile Assigment')\n",
    "\n",
    "ax.set_xlabel('Signatures')\n",
    "ax.set_ylabel('False Positives')\n",
    "ax.set_title('False Positives per Signature for Two Methods')\n",
    "ax.set_xticks(index)\n",
    "ax.legend()\n",
    "\n",
    "plt.grid(axis='y', linestyle='--', alpha=0.7)\n",
    "plt.show()\n"
   ]
  },
  {
   "cell_type": "code",
   "execution_count": 89,
   "id": "58668a5c-f99d-4fe2-902d-e5d6471b6539",
   "metadata": {},
   "outputs": [
    {
     "name": "stdout",
     "output_type": "stream",
     "text": [
      "SP85818\n",
      "SP86775\n"
     ]
    }
   ],
   "source": [
    "import pandas as pd\n",
    "import numpy as np\n",
    "\n",
    "# Funkcja do tworzenia wektora dla danej grupy\n",
    "def create_vector(group):\n",
    "    vector = np.zeros(67)\n",
    "    for _, row in group.iterrows():\n",
    "        index = row['best_columns']\n",
    "        if index < 67:\n",
    "            vector[index] = row['findSigExposures']\n",
    "    return vector\n",
    "\n",
    "# Grupowanie i tworzenie wektorów dla df1 i df2\n",
    "groups_df1 = ground_truth_df.groupby('Sample Names').apply(create_vector)\n",
    "groups_df2 = experiment_df.groupby('Sample Names').apply(create_vector)\n",
    "\n",
    "correlations_our = {}\n",
    "# Obliczanie korelacji dla każdej grupy\n",
    "for sample_name in groups_df1.index:\n",
    "    try:\n",
    "        correlation = np.corrcoef(groups_df1[sample_name], groups_df2[sample_name])[0, 1]\n",
    "        correlations_our[sample_name] = correlation\n",
    "    except:\n",
    "        print(sample_name)\n",
    "correlations_df_our = pd.DataFrame(list(correlations_our.items()), columns=['Sample Names', 'Correlation'])"
   ]
  },
  {
   "cell_type": "code",
   "execution_count": 90,
   "id": "d7741eab-282b-4a08-9a79-f37f5bf865c4",
   "metadata": {},
   "outputs": [
    {
     "data": {
      "text/plain": [
       "array([0.1634606 , 0.        , 0.        , 0.        , 0.        ,\n",
       "       0.        , 0.        , 0.        , 0.        , 0.        ,\n",
       "       0.        , 0.        , 0.        , 0.        , 0.        ,\n",
       "       0.        , 0.        , 0.        , 0.        , 0.        ,\n",
       "       0.        , 0.        , 0.        , 0.        , 0.        ,\n",
       "       0.        , 0.        , 0.        , 0.        , 0.        ,\n",
       "       0.        , 0.        , 0.        , 0.        , 0.21937928,\n",
       "       0.        , 0.        , 0.        , 0.        , 0.        ,\n",
       "       0.        , 0.        , 0.        , 0.        , 0.        ,\n",
       "       0.        , 0.        , 0.        , 0.        , 0.        ,\n",
       "       0.        , 0.        , 0.        , 0.        , 0.        ,\n",
       "       0.        , 0.        , 0.        , 0.        , 0.        ,\n",
       "       0.        , 0.        , 0.61716012, 0.        , 0.        ,\n",
       "       0.        , 0.        ])"
      ]
     },
     "execution_count": 90,
     "metadata": {},
     "output_type": "execute_result"
    }
   ],
   "source": [
    "groups_df1['SP85818']"
   ]
  },
  {
   "cell_type": "code",
   "execution_count": 91,
   "id": "906c51e6-1de5-4fd0-8826-625929e55c9c",
   "metadata": {},
   "outputs": [
    {
     "data": {
      "text/plain": [
       "array([0.05807024, 0.        , 0.        , 0.        , 0.94192976,\n",
       "       0.        , 0.        , 0.        , 0.        , 0.        ,\n",
       "       0.        , 0.        , 0.        , 0.        , 0.        ,\n",
       "       0.        , 0.        , 0.        , 0.        , 0.        ,\n",
       "       0.        , 0.        , 0.        , 0.        , 0.        ,\n",
       "       0.        , 0.        , 0.        , 0.        , 0.        ,\n",
       "       0.        , 0.        , 0.        , 0.        , 0.        ,\n",
       "       0.        , 0.        , 0.        , 0.        , 0.        ,\n",
       "       0.        , 0.        , 0.        , 0.        , 0.        ,\n",
       "       0.        , 0.        , 0.        , 0.        , 0.        ,\n",
       "       0.        , 0.        , 0.        , 0.        , 0.        ,\n",
       "       0.        , 0.        , 0.        , 0.        , 0.        ,\n",
       "       0.        , 0.        , 0.        , 0.        , 0.        ,\n",
       "       0.        , 0.        ])"
      ]
     },
     "execution_count": 91,
     "metadata": {},
     "output_type": "execute_result"
    }
   ],
   "source": [
    "groups_df1['SP86775']"
   ]
  },
  {
   "cell_type": "code",
   "execution_count": 92,
   "id": "e40bbc85-03fb-4d3d-b86b-2c5dd14e2994",
   "metadata": {},
   "outputs": [],
   "source": [
    "import pandas as pd\n",
    "import numpy as np\n",
    "\n",
    "# Funkcja do tworzenia wektora dla danej grupy\n",
    "def create_vector(group):\n",
    "    vector = np.zeros(67)\n",
    "    for _, row in group.iterrows():\n",
    "        index = row['best_columns']\n",
    "        if index < 67:\n",
    "            vector[index] = row['findSigExposures']\n",
    "    return vector\n",
    "\n",
    "# Grupowanie i tworzenie wektorów dla df1 i df2\n",
    "groups_df1 = ground_truth_df.groupby('Sample Names').apply(create_vector)\n",
    "groups_df2 = experiment_sig_profiler_df.groupby('Sample Names').apply(create_vector)\n",
    "\n",
    "correlations_sig_profile = {}\n",
    "# Obliczanie korelacji dla każdej grupy\n",
    "for sample_name in groups_df1.index:\n",
    "    try:\n",
    "        correlation = np.corrcoef(groups_df1[sample_name], groups_df2[sample_name])[0, 1]\n",
    "        correlations_sig_profile[sample_name] = correlation\n",
    "    except:\n",
    "        print(sample_name)\n",
    "correlations_df_sig_profile = pd.DataFrame(list(correlations_sig_profile.items()), columns=['Sample Names', 'Correlation'])"
   ]
  },
  {
   "cell_type": "code",
   "execution_count": 93,
   "id": "d9c7b7c3-be83-4537-8faf-f49b857b235b",
   "metadata": {},
   "outputs": [
    {
     "data": {
      "text/html": [
       "<div>\n",
       "<style scoped>\n",
       "    .dataframe tbody tr th:only-of-type {\n",
       "        vertical-align: middle;\n",
       "    }\n",
       "\n",
       "    .dataframe tbody tr th {\n",
       "        vertical-align: top;\n",
       "    }\n",
       "\n",
       "    .dataframe thead th {\n",
       "        text-align: right;\n",
       "    }\n",
       "</style>\n",
       "<table border=\"1\" class=\"dataframe\">\n",
       "  <thead>\n",
       "    <tr style=\"text-align: right;\">\n",
       "      <th></th>\n",
       "      <th>Correlation</th>\n",
       "    </tr>\n",
       "  </thead>\n",
       "  <tbody>\n",
       "    <tr>\n",
       "      <th>count</th>\n",
       "      <td>2769.000000</td>\n",
       "    </tr>\n",
       "    <tr>\n",
       "      <th>mean</th>\n",
       "      <td>0.989783</td>\n",
       "    </tr>\n",
       "    <tr>\n",
       "      <th>std</th>\n",
       "      <td>0.080674</td>\n",
       "    </tr>\n",
       "    <tr>\n",
       "      <th>min</th>\n",
       "      <td>-0.030041</td>\n",
       "    </tr>\n",
       "    <tr>\n",
       "      <th>25%</th>\n",
       "      <td>0.999999</td>\n",
       "    </tr>\n",
       "    <tr>\n",
       "      <th>50%</th>\n",
       "      <td>1.000000</td>\n",
       "    </tr>\n",
       "    <tr>\n",
       "      <th>75%</th>\n",
       "      <td>1.000000</td>\n",
       "    </tr>\n",
       "    <tr>\n",
       "      <th>max</th>\n",
       "      <td>1.000000</td>\n",
       "    </tr>\n",
       "  </tbody>\n",
       "</table>\n",
       "</div>"
      ],
      "text/plain": [
       "       Correlation\n",
       "count  2769.000000\n",
       "mean      0.989783\n",
       "std       0.080674\n",
       "min      -0.030041\n",
       "25%       0.999999\n",
       "50%       1.000000\n",
       "75%       1.000000\n",
       "max       1.000000"
      ]
     },
     "execution_count": 93,
     "metadata": {},
     "output_type": "execute_result"
    }
   ],
   "source": [
    "correlations_df_sig_profile.describe()"
   ]
  },
  {
   "cell_type": "code",
   "execution_count": 94,
   "id": "994575c1-c6e0-49c3-b07d-1387a8e1e82f",
   "metadata": {},
   "outputs": [
    {
     "data": {
      "text/html": [
       "<div>\n",
       "<style scoped>\n",
       "    .dataframe tbody tr th:only-of-type {\n",
       "        vertical-align: middle;\n",
       "    }\n",
       "\n",
       "    .dataframe tbody tr th {\n",
       "        vertical-align: top;\n",
       "    }\n",
       "\n",
       "    .dataframe thead th {\n",
       "        text-align: right;\n",
       "    }\n",
       "</style>\n",
       "<table border=\"1\" class=\"dataframe\">\n",
       "  <thead>\n",
       "    <tr style=\"text-align: right;\">\n",
       "      <th></th>\n",
       "      <th>Correlation</th>\n",
       "    </tr>\n",
       "  </thead>\n",
       "  <tbody>\n",
       "    <tr>\n",
       "      <th>count</th>\n",
       "      <td>2767.000000</td>\n",
       "    </tr>\n",
       "    <tr>\n",
       "      <th>mean</th>\n",
       "      <td>0.989335</td>\n",
       "    </tr>\n",
       "    <tr>\n",
       "      <th>std</th>\n",
       "      <td>0.084374</td>\n",
       "    </tr>\n",
       "    <tr>\n",
       "      <th>min</th>\n",
       "      <td>-0.035164</td>\n",
       "    </tr>\n",
       "    <tr>\n",
       "      <th>25%</th>\n",
       "      <td>0.999987</td>\n",
       "    </tr>\n",
       "    <tr>\n",
       "      <th>50%</th>\n",
       "      <td>0.999999</td>\n",
       "    </tr>\n",
       "    <tr>\n",
       "      <th>75%</th>\n",
       "      <td>1.000000</td>\n",
       "    </tr>\n",
       "    <tr>\n",
       "      <th>max</th>\n",
       "      <td>1.000000</td>\n",
       "    </tr>\n",
       "  </tbody>\n",
       "</table>\n",
       "</div>"
      ],
      "text/plain": [
       "       Correlation\n",
       "count  2767.000000\n",
       "mean      0.989335\n",
       "std       0.084374\n",
       "min      -0.035164\n",
       "25%       0.999987\n",
       "50%       0.999999\n",
       "75%       1.000000\n",
       "max       1.000000"
      ]
     },
     "execution_count": 94,
     "metadata": {},
     "output_type": "execute_result"
    }
   ],
   "source": [
    "correlations_df_our.describe()"
   ]
  },
  {
   "cell_type": "code",
   "execution_count": null,
   "id": "5eddc24c-090f-4b91-bee5-7061260e1c7e",
   "metadata": {},
   "outputs": [],
   "source": [
    "import pandas as pd \n",
    "\n",
    "\n",
    "\n",
    "import numpy as np\n",
    "from utils import save_to_dataframe\n",
    "\n",
    "tumorBRCA = np.genfromtxt('data/M.csv', delimiter='\\t', skip_header=1)\n",
    "tumorBRCA = np.delete(tumorBRCA, 0, axis=1)\n",
    "\n",
    "df = pd.read_csv('data/WGS-decomposition__PCAWG_sigProfiler_SBS_signatures_in_samples.csv')\n",
    "SigProfilerAssignment = pd.read_csv('/home/amso/Documents/data_comparation/output/Assignment_Solution/Activities/Assignment_Solution_Activities.txt',sep='\\t')\n",
    "\n",
    "\n",
    "ground_truth = SigProfilerAssignment.drop(columns=['Samples'])\n",
    "\n",
    "ground_truth.columns = [x for x in range(0, 67)]\n",
    "ground_truth_df = pd.DataFrame()\n",
    "\n",
    "for i in range(tumorBRCA.shape[1]):\n",
    "    first_col = tumorBRCA[:, i]\n",
    "    patient = ground_truth.iloc[i]\n",
    "    patient = patient / patient.sum()\n",
    "\n",
    "    non_zero_condition = (patient != 0)\n",
    "    indexes = non_zero_condition[non_zero_condition].index.tolist()\n",
    "\n",
    "    r = save_to_dataframe(indexes, patient[indexes].to_numpy(), SigProfilerAssignment.iloc[i]['Samples'], df.iloc[i]['Cancer Types'])\n",
    "    ground_truth_df = pd.concat([r, ground_truth_df], ignore_index=True)\n",
    "\n",
    "\n",
    "ground_truth_df.to_csv('experiment_sig_profiles.csv')"
   ]
  },
  {
   "cell_type": "code",
   "execution_count": 56,
   "id": "d094be0f-a6bd-44d9-8c9e-30db5e58bb2f",
   "metadata": {},
   "outputs": [],
   "source": [
    "df = pd.read_csv('/home/amso/Documents/data_comparation/data/M.csv', sep='\\t')\n",
    "m = pd.read_csv('/home/amso/Documents/mutation_signatures/data/COSMIC_v3_SBS_GRCh37.txt', sep='\\t')"
   ]
  },
  {
   "cell_type": "code",
   "execution_count": 58,
   "id": "486c69e7-64a7-408a-b1b4-b41c25ef5b12",
   "metadata": {},
   "outputs": [],
   "source": [
    "pd.concat([m[['Type']], df], axis=1).drop(columns=['Unnamed: 0']).to_csv('/home/amso/Documents/data_comparation/data/M.csv', sep='\\t')"
   ]
  },
  {
   "cell_type": "code",
   "execution_count": 47,
   "id": "d9634478-d7f2-4416-9cf8-6524af477b45",
   "metadata": {},
   "outputs": [],
   "source": [
    "import pandas as pd \n",
    "\n",
    "df = pd.read_csv('data/WGS_signatures__sigProfiler_SBS_signatures_2019_05_22.modified.csv', sep='\\t', index_col=0)"
   ]
  },
  {
   "cell_type": "code",
   "execution_count": 49,
   "id": "bc78bdbc-1eb3-4ee5-a057-87b5023982ac",
   "metadata": {},
   "outputs": [],
   "source": [
    "df.index = m['Type']"
   ]
  },
  {
   "cell_type": "code",
   "execution_count": 52,
   "id": "cf2489f1-c620-4360-aca9-6fa3e0c2d65b",
   "metadata": {},
   "outputs": [],
   "source": [
    "df.to_csv('data/WGS_signatures__sigProfiler_SBS_signatures_2019_05_22.modified.csv', sep='\\t')"
   ]
  },
  {
   "cell_type": "code",
   "execution_count": null,
   "id": "84e5dc9d-4dae-4962-8213-2eaa5a8c8e21",
   "metadata": {},
   "outputs": [],
   "source": []
  }
 ],
 "metadata": {
  "kernelspec": {
   "display_name": "Python 3 (ipykernel)",
   "language": "python",
   "name": "python3"
  },
  "language_info": {
   "codemirror_mode": {
    "name": "ipython",
    "version": 3
   },
   "file_extension": ".py",
   "mimetype": "text/x-python",
   "name": "python",
   "nbconvert_exporter": "python",
   "pygments_lexer": "ipython3",
   "version": "3.10.12"
  }
 },
 "nbformat": 4,
 "nbformat_minor": 5
}
