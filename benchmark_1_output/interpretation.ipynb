{
 "cells": [
  {
   "cell_type": "code",
   "execution_count": 58,
   "id": "94ac46d0-bccf-4020-a7ce-0d8db7f35f5d",
   "metadata": {},
   "outputs": [
    {
     "data": {
      "text/html": [
       "<div>\n",
       "<style scoped>\n",
       "    .dataframe tbody tr th:only-of-type {\n",
       "        vertical-align: middle;\n",
       "    }\n",
       "\n",
       "    .dataframe tbody tr th {\n",
       "        vertical-align: top;\n",
       "    }\n",
       "\n",
       "    .dataframe thead th {\n",
       "        text-align: right;\n",
       "    }\n",
       "</style>\n",
       "<table border=\"1\" class=\"dataframe\">\n",
       "  <thead>\n",
       "    <tr style=\"text-align: right;\">\n",
       "      <th></th>\n",
       "      <th>findSigExposures</th>\n",
       "      <th>best_columns</th>\n",
       "      <th>Sample Names</th>\n",
       "      <th>Cancer Types</th>\n",
       "    </tr>\n",
       "  </thead>\n",
       "  <tbody>\n",
       "    <tr>\n",
       "      <th>0</th>\n",
       "      <td>0.092292</td>\n",
       "      <td>0</td>\n",
       "      <td>SP95550</td>\n",
       "      <td>Uterus-AdenoCA</td>\n",
       "    </tr>\n",
       "    <tr>\n",
       "      <th>1</th>\n",
       "      <td>0.063734</td>\n",
       "      <td>1</td>\n",
       "      <td>SP95550</td>\n",
       "      <td>Uterus-AdenoCA</td>\n",
       "    </tr>\n",
       "    <tr>\n",
       "      <th>2</th>\n",
       "      <td>0.158121</td>\n",
       "      <td>4</td>\n",
       "      <td>SP95550</td>\n",
       "      <td>Uterus-AdenoCA</td>\n",
       "    </tr>\n",
       "    <tr>\n",
       "      <th>3</th>\n",
       "      <td>0.099349</td>\n",
       "      <td>16</td>\n",
       "      <td>SP95550</td>\n",
       "      <td>Uterus-AdenoCA</td>\n",
       "    </tr>\n",
       "    <tr>\n",
       "      <th>4</th>\n",
       "      <td>0.586503</td>\n",
       "      <td>44</td>\n",
       "      <td>SP95550</td>\n",
       "      <td>Uterus-AdenoCA</td>\n",
       "    </tr>\n",
       "  </tbody>\n",
       "</table>\n",
       "</div>"
      ],
      "text/plain": [
       "   findSigExposures  best_columns Sample Names    Cancer Types\n",
       "0          0.092292             0      SP95550  Uterus-AdenoCA\n",
       "1          0.063734             1      SP95550  Uterus-AdenoCA\n",
       "2          0.158121             4      SP95550  Uterus-AdenoCA\n",
       "3          0.099349            16      SP95550  Uterus-AdenoCA\n",
       "4          0.586503            44      SP95550  Uterus-AdenoCA"
      ]
     },
     "execution_count": 58,
     "metadata": {},
     "output_type": "execute_result"
    }
   ],
   "source": [
    "import pandas as pd\n",
    "\n",
    "ground_truth_df = pd.read_csv('data/ground_truth_1.csv', index_col=0)\n",
    "ground_truth_df.columns = ['findSigExposures',\t'best_columns',\t'Sample Names',\t'Cancer Types']\n",
    "ground_truth_df.head()\n"
   ]
  },
  {
   "cell_type": "code",
   "execution_count": 59,
   "id": "75fe2d4a-3d4c-41a1-8680-b31193caf3b0",
   "metadata": {
    "scrolled": true
   },
   "outputs": [
    {
     "data": {
      "text/plain": [
       "Panc-AdenoCA           1112\n",
       "Liver-HCC              1085\n",
       "Prost-AdenoCA           951\n",
       "Breast-AdenoCA          942\n",
       "Skin-Melanoma           585\n",
       "Eso-AdenoCA             548\n",
       "Lymph-BNHL              528\n",
       "Ovary-AdenoCA           495\n",
       "Kidney-RCC              459\n",
       "CNS-Medullo             431\n",
       "Stomach-AdenoCA         421\n",
       "Panc-Endocrine          329\n",
       "Lymph-CLL               281\n",
       "Head-SCC                280\n",
       "ColoRect-AdenoCA        240\n",
       "CNS-PiloAstro           238\n",
       "Lung-SCC                211\n",
       "Uterus-AdenoCA          197\n",
       "Bone-Osteosarc          178\n",
       "Lung-AdenoCA            167\n",
       "Kidney-ChRCC            153\n",
       "Thy-AdenoCA             152\n",
       "Biliary-AdenoCA         152\n",
       "Myeloid-MPN             128\n",
       "CNS-GBM                 112\n",
       "SoftTissue-Liposarc      98\n",
       "Bladder-TCC              98\n",
       "Cervix-SCC               79\n",
       "Breast-LobularCA         60\n",
       "SoftTissue-Leiomyo       59\n",
       "Bone-Benign              52\n",
       "Bone-Epith               39\n",
       "CNS-Oligo                38\n",
       "Myeloid-AML              27\n",
       "Myeloid-MDS               9\n",
       "Breast-DCIS               7\n",
       "Cervix-AdenoCA            6\n",
       "Name: Cancer Types, dtype: int64"
      ]
     },
     "execution_count": 59,
     "metadata": {},
     "output_type": "execute_result"
    }
   ],
   "source": [
    "ground_truth_df['Cancer Types'].value_counts()"
   ]
  },
  {
   "cell_type": "code",
   "execution_count": 65,
   "id": "3ccdcb97-bfc2-43e8-b5f1-f88a5415806b",
   "metadata": {},
   "outputs": [
    {
     "data": {
      "text/html": [
       "<div>\n",
       "<style scoped>\n",
       "    .dataframe tbody tr th:only-of-type {\n",
       "        vertical-align: middle;\n",
       "    }\n",
       "\n",
       "    .dataframe tbody tr th {\n",
       "        vertical-align: top;\n",
       "    }\n",
       "\n",
       "    .dataframe thead th {\n",
       "        text-align: right;\n",
       "    }\n",
       "</style>\n",
       "<table border=\"1\" class=\"dataframe\">\n",
       "  <thead>\n",
       "    <tr style=\"text-align: right;\">\n",
       "      <th></th>\n",
       "      <th>findSigExposures</th>\n",
       "      <th>best_columns</th>\n",
       "      <th>Sample Names</th>\n",
       "      <th>Cancer Types</th>\n",
       "    </tr>\n",
       "  </thead>\n",
       "  <tbody>\n",
       "    <tr>\n",
       "      <th>0</th>\n",
       "      <td>0.092256</td>\n",
       "      <td>0</td>\n",
       "      <td>SP95550</td>\n",
       "      <td>Uterus-AdenoCA</td>\n",
       "    </tr>\n",
       "    <tr>\n",
       "      <th>1</th>\n",
       "      <td>0.063790</td>\n",
       "      <td>1</td>\n",
       "      <td>SP95550</td>\n",
       "      <td>Uterus-AdenoCA</td>\n",
       "    </tr>\n",
       "    <tr>\n",
       "      <th>2</th>\n",
       "      <td>0.158236</td>\n",
       "      <td>4</td>\n",
       "      <td>SP95550</td>\n",
       "      <td>Uterus-AdenoCA</td>\n",
       "    </tr>\n",
       "    <tr>\n",
       "      <th>3</th>\n",
       "      <td>0.099229</td>\n",
       "      <td>16</td>\n",
       "      <td>SP95550</td>\n",
       "      <td>Uterus-AdenoCA</td>\n",
       "    </tr>\n",
       "    <tr>\n",
       "      <th>4</th>\n",
       "      <td>0.586489</td>\n",
       "      <td>44</td>\n",
       "      <td>SP95550</td>\n",
       "      <td>Uterus-AdenoCA</td>\n",
       "    </tr>\n",
       "  </tbody>\n",
       "</table>\n",
       "</div>"
      ],
      "text/plain": [
       "   findSigExposures  best_columns Sample Names    Cancer Types\n",
       "0          0.092256             0      SP95550  Uterus-AdenoCA\n",
       "1          0.063790             1      SP95550  Uterus-AdenoCA\n",
       "2          0.158236             4      SP95550  Uterus-AdenoCA\n",
       "3          0.099229            16      SP95550  Uterus-AdenoCA\n",
       "4          0.586489            44      SP95550  Uterus-AdenoCA"
      ]
     },
     "execution_count": 65,
     "metadata": {},
     "output_type": "execute_result"
    }
   ],
   "source": [
    "experiment_df = pd.read_csv('data/experiment2.csv', index_col=0)\n",
    "experiment_df.columns = ['findSigExposures',\t'best_columns',\t'Sample Names',\t'Cancer Types']\n",
    "experiment_df.head()"
   ]
  },
  {
   "cell_type": "code",
   "execution_count": 66,
   "id": "ffebd599-d411-4037-a61d-1f47db4ce62d",
   "metadata": {},
   "outputs": [
    {
     "data": {
      "text/html": [
       "<div>\n",
       "<style scoped>\n",
       "    .dataframe tbody tr th:only-of-type {\n",
       "        vertical-align: middle;\n",
       "    }\n",
       "\n",
       "    .dataframe tbody tr th {\n",
       "        vertical-align: top;\n",
       "    }\n",
       "\n",
       "    .dataframe thead th {\n",
       "        text-align: right;\n",
       "    }\n",
       "</style>\n",
       "<table border=\"1\" class=\"dataframe\">\n",
       "  <thead>\n",
       "    <tr style=\"text-align: right;\">\n",
       "      <th></th>\n",
       "      <th>findSigExposures</th>\n",
       "      <th>best_columns</th>\n",
       "      <th>Sample Names</th>\n",
       "      <th>Cancer Types</th>\n",
       "    </tr>\n",
       "  </thead>\n",
       "  <tbody>\n",
       "    <tr>\n",
       "      <th>0</th>\n",
       "      <td>0.092292</td>\n",
       "      <td>0</td>\n",
       "      <td>SP95550</td>\n",
       "      <td>Uterus-AdenoCA</td>\n",
       "    </tr>\n",
       "    <tr>\n",
       "      <th>1</th>\n",
       "      <td>0.063844</td>\n",
       "      <td>1</td>\n",
       "      <td>SP95550</td>\n",
       "      <td>Uterus-AdenoCA</td>\n",
       "    </tr>\n",
       "    <tr>\n",
       "      <th>2</th>\n",
       "      <td>0.158231</td>\n",
       "      <td>4</td>\n",
       "      <td>SP95550</td>\n",
       "      <td>Uterus-AdenoCA</td>\n",
       "    </tr>\n",
       "    <tr>\n",
       "      <th>3</th>\n",
       "      <td>0.099239</td>\n",
       "      <td>16</td>\n",
       "      <td>SP95550</td>\n",
       "      <td>Uterus-AdenoCA</td>\n",
       "    </tr>\n",
       "    <tr>\n",
       "      <th>4</th>\n",
       "      <td>0.586393</td>\n",
       "      <td>44</td>\n",
       "      <td>SP95550</td>\n",
       "      <td>Uterus-AdenoCA</td>\n",
       "    </tr>\n",
       "  </tbody>\n",
       "</table>\n",
       "</div>"
      ],
      "text/plain": [
       "   findSigExposures  best_columns Sample Names    Cancer Types\n",
       "0          0.092292             0      SP95550  Uterus-AdenoCA\n",
       "1          0.063844             1      SP95550  Uterus-AdenoCA\n",
       "2          0.158231             4      SP95550  Uterus-AdenoCA\n",
       "3          0.099239            16      SP95550  Uterus-AdenoCA\n",
       "4          0.586393            44      SP95550  Uterus-AdenoCA"
      ]
     },
     "execution_count": 66,
     "metadata": {},
     "output_type": "execute_result"
    }
   ],
   "source": [
    "experiment_sig_profiler_df = pd.read_csv('data/experiment_sig_profiles.csv', index_col=0)\n",
    "experiment_sig_profiler_df.columns = ['findSigExposures',\t'best_columns',\t'Sample Names',\t'Cancer Types']\n",
    "experiment_sig_profiler_df.head()"
   ]
  },
  {
   "cell_type": "code",
   "execution_count": 67,
   "id": "cee890fb-5130-4486-af22-f0b41382db12",
   "metadata": {},
   "outputs": [
    {
     "data": {
      "text/html": [
       "<div>\n",
       "<style scoped>\n",
       "    .dataframe tbody tr th:only-of-type {\n",
       "        vertical-align: middle;\n",
       "    }\n",
       "\n",
       "    .dataframe tbody tr th {\n",
       "        vertical-align: top;\n",
       "    }\n",
       "\n",
       "    .dataframe thead th {\n",
       "        text-align: right;\n",
       "    }\n",
       "</style>\n",
       "<table border=\"1\" class=\"dataframe\">\n",
       "  <thead>\n",
       "    <tr style=\"text-align: right;\">\n",
       "      <th></th>\n",
       "      <th>findSigExposures</th>\n",
       "      <th>best_columns</th>\n",
       "      <th>Sample Names</th>\n",
       "      <th>Cancer Types</th>\n",
       "    </tr>\n",
       "  </thead>\n",
       "  <tbody>\n",
       "    <tr>\n",
       "      <th>0</th>\n",
       "      <td>0.092732</td>\n",
       "      <td>0</td>\n",
       "      <td>SP95550</td>\n",
       "      <td>Uterus-AdenoCA</td>\n",
       "    </tr>\n",
       "    <tr>\n",
       "      <th>1</th>\n",
       "      <td>0.064254</td>\n",
       "      <td>1</td>\n",
       "      <td>SP95550</td>\n",
       "      <td>Uterus-AdenoCA</td>\n",
       "    </tr>\n",
       "    <tr>\n",
       "      <th>2</th>\n",
       "      <td>0.154181</td>\n",
       "      <td>4</td>\n",
       "      <td>SP95550</td>\n",
       "      <td>Uterus-AdenoCA</td>\n",
       "    </tr>\n",
       "    <tr>\n",
       "      <th>3</th>\n",
       "      <td>0.099884</td>\n",
       "      <td>16</td>\n",
       "      <td>SP95550</td>\n",
       "      <td>Uterus-AdenoCA</td>\n",
       "    </tr>\n",
       "    <tr>\n",
       "      <th>4</th>\n",
       "      <td>0.588950</td>\n",
       "      <td>44</td>\n",
       "      <td>SP95550</td>\n",
       "      <td>Uterus-AdenoCA</td>\n",
       "    </tr>\n",
       "  </tbody>\n",
       "</table>\n",
       "</div>"
      ],
      "text/plain": [
       "   findSigExposures  best_columns Sample Names    Cancer Types\n",
       "0          0.092732             0      SP95550  Uterus-AdenoCA\n",
       "1          0.064254             1      SP95550  Uterus-AdenoCA\n",
       "2          0.154181             4      SP95550  Uterus-AdenoCA\n",
       "3          0.099884            16      SP95550  Uterus-AdenoCA\n",
       "4          0.588950            44      SP95550  Uterus-AdenoCA"
      ]
     },
     "execution_count": 67,
     "metadata": {},
     "output_type": "execute_result"
    }
   ],
   "source": [
    "experiment_signal_df = pd.read_csv('data/experiment_signal.csv', index_col=0)\n",
    "experiment_signal_df.columns = ['findSigExposures',\t'best_columns',\t'Sample Names',\t'Cancer Types']\n",
    "experiment_signal_df.head()"
   ]
  },
  {
   "cell_type": "code",
   "execution_count": 68,
   "id": "8ef09edf-1332-48c1-b6cb-7a56c68d63ce",
   "metadata": {},
   "outputs": [],
   "source": [
    "def calculate_metrics(predicted, actual, total_values):\n",
    "    predicted_set = set(predicted)\n",
    "    actual_set = set(actual)\n",
    "    all_values_set = set(range(total_values))\n",
    "\n",
    "    true_positives = len(predicted_set.intersection(actual_set))\n",
    "    true_negatives = len(all_values_set.difference(actual_set).difference(predicted_set))\n",
    "\n",
    "    false_negatives = actual_set.difference(predicted_set)\n",
    "    false_positives = predicted_set.difference(actual_set)\n",
    "\n",
    "    total_positives = len(actual_set)\n",
    "    total_negatives = total_values - total_positives\n",
    "\n",
    "    sensitivity = true_positives / total_positives if total_positives else 0\n",
    "    specificity = true_negatives / total_negatives if total_negatives else 0\n",
    "\n",
    "    return sensitivity, specificity, false_negatives, false_positives\n"
   ]
  },
  {
   "cell_type": "code",
   "execution_count": 69,
   "id": "baf14061-da11-43ee-b044-9a7a365eb045",
   "metadata": {},
   "outputs": [
    {
     "data": {
      "text/plain": [
       "array(['SP95550', 'SP90629', 'SP89909', ..., 'SP117627', 'SP117556',\n",
       "       'SP117655'], dtype=object)"
      ]
     },
     "execution_count": 69,
     "metadata": {},
     "output_type": "execute_result"
    }
   ],
   "source": [
    "ground_truth_df['Sample Names'].unique()"
   ]
  },
  {
   "cell_type": "code",
   "execution_count": 70,
   "id": "311bd73a-ed0d-468f-8f14-c839b59be90a",
   "metadata": {},
   "outputs": [],
   "source": [
    "import pandas as pd\n",
    "\n",
    "results = []\n",
    "total_values = 67\n",
    "\n",
    "for patient in ground_truth_df['Sample Names'].unique():\n",
    "    try:\n",
    "        actual = ground_truth_df.groupby('Sample Names').get_group(patient)['best_columns'].tolist()\n",
    "        predicted = experiment_df.groupby('Sample Names').get_group(patient)['best_columns'].tolist()\n",
    "        predicted_sig_profile = experiment_sig_profiler_df.groupby('Sample Names').get_group(patient)['best_columns'].tolist()\n",
    "        predicted_signal = experiment_signal_df.groupby('Sample Names').get_group(patient)['best_columns'].tolist()\n",
    "    except:\n",
    "        print(f'error: patient', patient)\n",
    "        continue\n",
    "    sensitivity, specificity, false_negatives, false_positives = calculate_metrics(predicted, actual, total_values)\n",
    "    sensitivity_sig_profile, specificity_sig_profile, false_negatives_sig_profile, false_positives_sig_profile = calculate_metrics(predicted_sig_profile, actual, total_values)\n",
    "    sensitivity_signal, specificity_signal, false_negatives_signal, false_positives_signal = calculate_metrics(predicted_signal, actual, total_values)\n",
    "\n",
    "    results.append({\n",
    "        'Pacjent': patient,\n",
    "        'Sensitivity_our': sensitivity,\n",
    "        'Specificity_our': specificity,\n",
    "        'Sensitivity_sig_profile':sensitivity_sig_profile,\n",
    "        'Specificity_sig_profile':specificity_sig_profile,\n",
    "        'Sensitivity_signal':sensitivity_signal,\n",
    "        'Specificity_signal':specificity_signal,\n",
    "        'false_negatives_our':  {} if len(false_negatives) == 0 else false_negatives,\n",
    "        'false_positives_our': {} if len(false_positives) == 0 else false_positives,\n",
    "        'false_negatives_sig_profile':  {} if len(false_negatives_sig_profile) == 0 else false_negatives_sig_profile,\n",
    "        'false_positives_sig_profile': {} if len(false_positives_sig_profile) == 0 else false_positives_sig_profile,\n",
    "        'false_negatives_signal':  {} if len(false_negatives_signal) == 0 else false_negatives_signal,\n",
    "        'false_positives_signal': {} if len(false_positives_signal) == 0 else false_positives_signal\n",
    "    })\n",
    "\n",
    "# Tworzenie DataFrame z wynikami\n",
    "results_df = pd.DataFrame(results)\n"
   ]
  },
  {
   "cell_type": "code",
   "execution_count": 72,
   "id": "5066d790-b8e7-451f-b9df-4604b35e813a",
   "metadata": {},
   "outputs": [
    {
     "data": {
      "text/plain": [
       "(0.9435722919725089, 0.99556554857531, 0.844326150671053)"
      ]
     },
     "execution_count": 72,
     "metadata": {},
     "output_type": "execute_result"
    }
   ],
   "source": [
    "results_df['Sensitivity_our'].mean(), results_df['Sensitivity_sig_profile'].mean(), results_df['Sensitivity_signal'].mean()"
   ]
  },
  {
   "cell_type": "code",
   "execution_count": 73,
   "id": "733deb45-3243-417f-9b83-5d38d64318fe",
   "metadata": {},
   "outputs": [
    {
     "data": {
      "text/plain": [
       "(0.9435722919725089, 0.99556554857531, 0.844326150671053)"
      ]
     },
     "execution_count": 73,
     "metadata": {},
     "output_type": "execute_result"
    }
   ],
   "source": [
    "results_df['Sensitivity_our'].mean(), results_df['Sensitivity_sig_profile'].mean(), results_df['Sensitivity_signal'].mean()"
   ]
  },
  {
   "cell_type": "code",
   "execution_count": 74,
   "id": "bd53a696-ab71-4a03-b238-7c2a7a1611df",
   "metadata": {},
   "outputs": [
    {
     "data": {
      "text/plain": [
       "(0.9993896718954086, 0.9995851320803362, 0.9992767665280086)"
      ]
     },
     "execution_count": 74,
     "metadata": {},
     "output_type": "execute_result"
    }
   ],
   "source": [
    "results_df['Specificity_our'].mean(), results_df['Specificity_sig_profile'].mean(), results_df['Specificity_signal'].mean()"
   ]
  },
  {
   "cell_type": "code",
   "execution_count": 75,
   "id": "a2fdca9e-7614-469b-8cbf-7b184c6b1510",
   "metadata": {},
   "outputs": [
    {
     "data": {
      "text/plain": [
       "(0.9993896718954086, 0.9995851320803362, 0.9992767665280086)"
      ]
     },
     "execution_count": 75,
     "metadata": {},
     "output_type": "execute_result"
    }
   ],
   "source": [
    "results_df['Specificity_our'].mean(), results_df['Specificity_sig_profile'].mean(), results_df['Specificity_signal'].mean()"
   ]
  },
  {
   "cell_type": "code",
   "execution_count": 76,
   "id": "2d75ced6-2056-474f-88c3-fc663188bcdf",
   "metadata": {},
   "outputs": [
    {
     "data": {
      "image/png": "[encoded data removed]",
      "text/plain": [
       "<Figure size 640x480 with 1 Axes>"
      ]
     },
     "metadata": {},
     "output_type": "display_data"
    }
   ],
   "source": [
    "import seaborn as sns\n",
    "import matplotlib.pyplot as plt\n",
    "import pandas as pd\n",
    "\n",
    "# Przekształcenie DataFrame\n",
    "melted_df = results_df.melt(value_vars=['Specificity_our', 'Specificity_sig_profile', 'Specificity_signal'], var_name='Metric', value_name='Value')\n",
    "\n",
    "# Tworzenie wykresu violin plot\n",
    "sns.boxplot(x='Metric', y='Value', data=melted_df)\n",
    "\n",
    "# Dodanie tytułu i etykiet\n",
    "plt.title('Porównanie Specificity')\n",
    "plt.xlabel('Metrika')\n",
    "plt.ylabel('Value')\n",
    "\n",
    "# Wyświetlenie wykresu\n",
    "plt.show()"
   ]
  },
  {
   "cell_type": "code",
   "execution_count": 77,
   "id": "c0523600-371e-4481-8fe2-8fd2829d4ed6",
   "metadata": {},
   "outputs": [
    {
     "data": {
      "image/png": "[encoded data removed]",
      "text/plain": [
       "<Figure size 640x480 with 1 Axes>"
      ]
     },
     "metadata": {},
     "output_type": "display_data"
    }
   ],
   "source": [
    "import seaborn as sns\n",
    "import matplotlib.pyplot as plt\n",
    "import pandas as pd\n",
    "\n",
    "# Przekształcenie DataFrame\n",
    "melted_df = results_df.melt(value_vars=['Sensitivity_our', 'Sensitivity_sig_profile', 'Sensitivity_signal'], var_name='Metric', value_name='Value')\n",
    "\n",
    "# Tworzenie wykresu violin plot\n",
    "sns.boxplot(x='Metric', y='Value', data=melted_df)\n",
    "\n",
    "# Dodanie tytułu i etykiet\n",
    "plt.title('Porównanie Sensitivity')\n",
    "plt.xlabel('Sensitivity')\n",
    "plt.ylabel('Value')\n",
    "\n",
    "# Wyświetlenie wykresu\n",
    "plt.show()\n"
   ]
  },
  {
   "cell_type": "code",
   "execution_count": 78,
   "id": "d0ae18a2-ea35-45ef-a334-cc78d5e8c21d",
   "metadata": {},
   "outputs": [
    {
     "data": {
      "text/html": [
       "<div>\n",
       "<style scoped>\n",
       "    .dataframe tbody tr th:only-of-type {\n",
       "        vertical-align: middle;\n",
       "    }\n",
       "\n",
       "    .dataframe tbody tr th {\n",
       "        vertical-align: top;\n",
       "    }\n",
       "\n",
       "    .dataframe thead th {\n",
       "        text-align: right;\n",
       "    }\n",
       "</style>\n",
       "<table border=\"1\" class=\"dataframe\">\n",
       "  <thead>\n",
       "    <tr style=\"text-align: right;\">\n",
       "      <th></th>\n",
       "      <th>Pacjent</th>\n",
       "      <th>Sensitivity_our</th>\n",
       "      <th>Specificity_our</th>\n",
       "      <th>Sensitivity_sig_profile</th>\n",
       "      <th>Specificity_sig_profile</th>\n",
       "      <th>Sensitivity_signal</th>\n",
       "      <th>Specificity_signal</th>\n",
       "      <th>false_negatives_our</th>\n",
       "      <th>false_positives_our</th>\n",
       "      <th>false_negatives_sig_profile</th>\n",
       "      <th>false_positives_sig_profile</th>\n",
       "      <th>false_negatives_signal</th>\n",
       "      <th>false_positives_signal</th>\n",
       "    </tr>\n",
       "  </thead>\n",
       "  <tbody>\n",
       "    <tr>\n",
       "      <th>0</th>\n",
       "      <td>SP95550</td>\n",
       "      <td>1.0</td>\n",
       "      <td>1.0</td>\n",
       "      <td>1.0</td>\n",
       "      <td>1.0</td>\n",
       "      <td>1.00</td>\n",
       "      <td>1.0</td>\n",
       "      <td>{}</td>\n",
       "      <td>{}</td>\n",
       "      <td>{}</td>\n",
       "      <td>{}</td>\n",
       "      <td>{}</td>\n",
       "      <td>{}</td>\n",
       "    </tr>\n",
       "    <tr>\n",
       "      <th>1</th>\n",
       "      <td>SP90629</td>\n",
       "      <td>1.0</td>\n",
       "      <td>1.0</td>\n",
       "      <td>1.0</td>\n",
       "      <td>1.0</td>\n",
       "      <td>0.75</td>\n",
       "      <td>1.0</td>\n",
       "      <td>{}</td>\n",
       "      <td>{}</td>\n",
       "      <td>{}</td>\n",
       "      <td>{}</td>\n",
       "      <td>{0}</td>\n",
       "      <td>{}</td>\n",
       "    </tr>\n",
       "    <tr>\n",
       "      <th>2</th>\n",
       "      <td>SP89909</td>\n",
       "      <td>1.0</td>\n",
       "      <td>1.0</td>\n",
       "      <td>1.0</td>\n",
       "      <td>1.0</td>\n",
       "      <td>1.00</td>\n",
       "      <td>1.0</td>\n",
       "      <td>{}</td>\n",
       "      <td>{}</td>\n",
       "      <td>{}</td>\n",
       "      <td>{}</td>\n",
       "      <td>{}</td>\n",
       "      <td>{}</td>\n",
       "    </tr>\n",
       "    <tr>\n",
       "      <th>3</th>\n",
       "      <td>SP91265</td>\n",
       "      <td>1.0</td>\n",
       "      <td>1.0</td>\n",
       "      <td>1.0</td>\n",
       "      <td>1.0</td>\n",
       "      <td>1.00</td>\n",
       "      <td>1.0</td>\n",
       "      <td>{}</td>\n",
       "      <td>{}</td>\n",
       "      <td>{}</td>\n",
       "      <td>{}</td>\n",
       "      <td>{}</td>\n",
       "      <td>{}</td>\n",
       "    </tr>\n",
       "    <tr>\n",
       "      <th>4</th>\n",
       "      <td>SP92931</td>\n",
       "      <td>1.0</td>\n",
       "      <td>1.0</td>\n",
       "      <td>1.0</td>\n",
       "      <td>1.0</td>\n",
       "      <td>1.00</td>\n",
       "      <td>1.0</td>\n",
       "      <td>{}</td>\n",
       "      <td>{}</td>\n",
       "      <td>{}</td>\n",
       "      <td>{}</td>\n",
       "      <td>{}</td>\n",
       "      <td>{}</td>\n",
       "    </tr>\n",
       "    <tr>\n",
       "      <th>...</th>\n",
       "      <td>...</td>\n",
       "      <td>...</td>\n",
       "      <td>...</td>\n",
       "      <td>...</td>\n",
       "      <td>...</td>\n",
       "      <td>...</td>\n",
       "      <td>...</td>\n",
       "      <td>...</td>\n",
       "      <td>...</td>\n",
       "      <td>...</td>\n",
       "      <td>...</td>\n",
       "      <td>...</td>\n",
       "      <td>...</td>\n",
       "    </tr>\n",
       "    <tr>\n",
       "      <th>2761</th>\n",
       "      <td>SP117332</td>\n",
       "      <td>1.0</td>\n",
       "      <td>1.0</td>\n",
       "      <td>1.0</td>\n",
       "      <td>1.0</td>\n",
       "      <td>1.00</td>\n",
       "      <td>1.0</td>\n",
       "      <td>{}</td>\n",
       "      <td>{}</td>\n",
       "      <td>{}</td>\n",
       "      <td>{}</td>\n",
       "      <td>{}</td>\n",
       "      <td>{}</td>\n",
       "    </tr>\n",
       "    <tr>\n",
       "      <th>2762</th>\n",
       "      <td>SP117775</td>\n",
       "      <td>1.0</td>\n",
       "      <td>1.0</td>\n",
       "      <td>1.0</td>\n",
       "      <td>1.0</td>\n",
       "      <td>1.00</td>\n",
       "      <td>1.0</td>\n",
       "      <td>{}</td>\n",
       "      <td>{}</td>\n",
       "      <td>{}</td>\n",
       "      <td>{}</td>\n",
       "      <td>{}</td>\n",
       "      <td>{}</td>\n",
       "    </tr>\n",
       "    <tr>\n",
       "      <th>2763</th>\n",
       "      <td>SP117627</td>\n",
       "      <td>0.8</td>\n",
       "      <td>1.0</td>\n",
       "      <td>1.0</td>\n",
       "      <td>1.0</td>\n",
       "      <td>0.80</td>\n",
       "      <td>1.0</td>\n",
       "      <td>{16}</td>\n",
       "      <td>{}</td>\n",
       "      <td>{}</td>\n",
       "      <td>{}</td>\n",
       "      <td>{16}</td>\n",
       "      <td>{}</td>\n",
       "    </tr>\n",
       "    <tr>\n",
       "      <th>2764</th>\n",
       "      <td>SP117556</td>\n",
       "      <td>1.0</td>\n",
       "      <td>1.0</td>\n",
       "      <td>1.0</td>\n",
       "      <td>1.0</td>\n",
       "      <td>1.00</td>\n",
       "      <td>1.0</td>\n",
       "      <td>{}</td>\n",
       "      <td>{}</td>\n",
       "      <td>{}</td>\n",
       "      <td>{}</td>\n",
       "      <td>{}</td>\n",
       "      <td>{}</td>\n",
       "    </tr>\n",
       "    <tr>\n",
       "      <th>2765</th>\n",
       "      <td>SP117655</td>\n",
       "      <td>1.0</td>\n",
       "      <td>1.0</td>\n",
       "      <td>1.0</td>\n",
       "      <td>1.0</td>\n",
       "      <td>1.00</td>\n",
       "      <td>1.0</td>\n",
       "      <td>{}</td>\n",
       "      <td>{}</td>\n",
       "      <td>{}</td>\n",
       "      <td>{}</td>\n",
       "      <td>{}</td>\n",
       "      <td>{}</td>\n",
       "    </tr>\n",
       "  </tbody>\n",
       "</table>\n",
       "<p>2766 rows × 13 columns</p>\n",
       "</div>"
      ],
      "text/plain": [
       "       Pacjent  Sensitivity_our  Specificity_our  Sensitivity_sig_profile  \\\n",
       "0      SP95550              1.0              1.0                      1.0   \n",
       "1      SP90629              1.0              1.0                      1.0   \n",
       "2      SP89909              1.0              1.0                      1.0   \n",
       "3      SP91265              1.0              1.0                      1.0   \n",
       "4      SP92931              1.0              1.0                      1.0   \n",
       "...        ...              ...              ...                      ...   \n",
       "2761  SP117332              1.0              1.0                      1.0   \n",
       "2762  SP117775              1.0              1.0                      1.0   \n",
       "2763  SP117627              0.8              1.0                      1.0   \n",
       "2764  SP117556              1.0              1.0                      1.0   \n",
       "2765  SP117655              1.0              1.0                      1.0   \n",
       "\n",
       "      Specificity_sig_profile  Sensitivity_signal  Specificity_signal  \\\n",
       "0                         1.0                1.00                 1.0   \n",
       "1                         1.0                0.75                 1.0   \n",
       "2                         1.0                1.00                 1.0   \n",
       "3                         1.0                1.00                 1.0   \n",
       "4                         1.0                1.00                 1.0   \n",
       "...                       ...                 ...                 ...   \n",
       "2761                      1.0                1.00                 1.0   \n",
       "2762                      1.0                1.00                 1.0   \n",
       "2763                      1.0                0.80                 1.0   \n",
       "2764                      1.0                1.00                 1.0   \n",
       "2765                      1.0                1.00                 1.0   \n",
       "\n",
       "     false_negatives_our false_positives_our false_negatives_sig_profile  \\\n",
       "0                     {}                  {}                          {}   \n",
       "1                     {}                  {}                          {}   \n",
       "2                     {}                  {}                          {}   \n",
       "3                     {}                  {}                          {}   \n",
       "4                     {}                  {}                          {}   \n",
       "...                  ...                 ...                         ...   \n",
       "2761                  {}                  {}                          {}   \n",
       "2762                  {}                  {}                          {}   \n",
       "2763                {16}                  {}                          {}   \n",
       "2764                  {}                  {}                          {}   \n",
       "2765                  {}                  {}                          {}   \n",
       "\n",
       "     false_positives_sig_profile false_negatives_signal false_positives_signal  \n",
       "0                             {}                     {}                     {}  \n",
       "1                             {}                    {0}                     {}  \n",
       "2                             {}                     {}                     {}  \n",
       "3                             {}                     {}                     {}  \n",
       "4                             {}                     {}                     {}  \n",
       "...                          ...                    ...                    ...  \n",
       "2761                          {}                     {}                     {}  \n",
       "2762                          {}                     {}                     {}  \n",
       "2763                          {}                   {16}                     {}  \n",
       "2764                          {}                     {}                     {}  \n",
       "2765                          {}                     {}                     {}  \n",
       "\n",
       "[2766 rows x 13 columns]"
      ]
     },
     "execution_count": 78,
     "metadata": {},
     "output_type": "execute_result"
    }
   ],
   "source": [
    "results_df"
   ]
  },
  {
   "cell_type": "code",
   "execution_count": 79,
   "id": "281d26b8-8e51-4677-9f6d-f67d087341e8",
   "metadata": {},
   "outputs": [],
   "source": [
    "import pandas as pd\n",
    "\n",
    "signatures_false_negatives_our, signatures_false_positives_our = [], []\n",
    "signatures_false_negatives_sig_profile, signatures_false_positives_sig_profile = [], []\n",
    "signatures_false_negatives_signal, signatures_false_positives_signal = [], []\n",
    "\n",
    "for idx, row in results_df.iterrows():\n",
    "    for item in row['false_negatives_our']:\n",
    "      signatures_false_negatives_our.append({'Count': row['Pacjent'], 'signature_false_negatives_our': item})\n",
    "    for item in row['false_positives_our']:\n",
    "      signatures_false_positives_our.append({'Count': row['Pacjent'], 'signature_false_positives_our': item})\n",
    "    \n",
    "    for item in row['false_negatives_sig_profile']:\n",
    "      signatures_false_negatives_sig_profile.append({'Count': row['Pacjent'], 'signature_false_negatives_sig_profile': item})\n",
    "    for item in row['false_positives_sig_profile']:\n",
    "      signatures_false_positives_sig_profile.append({'Count': row['Pacjent'], 'signature_false_positives_sig_profile': item})\n",
    "\n",
    "    for item in row['false_negatives_signal']:\n",
    "      signatures_false_negatives_signal.append({'Count': row['Pacjent'], 'signature_false_negatives_signal': item})\n",
    "    for item in row['false_positives_signal']:\n",
    "      signatures_false_positives_signal.append({'Count': row['Pacjent'], 'signature_false_positives_signal': item})\n",
    "\n",
    "\n",
    "# Teraz możesz wykonać grupowanie na podstawie elementów\n",
    "grouped_fn_our = pd.DataFrame(signatures_false_negatives_our).groupby('signature_false_negatives_our').count().reset_index()\n",
    "grouped_fp_our = pd.DataFrame(signatures_false_positives_our).groupby('signature_false_positives_our').count().reset_index()\n",
    "grouped_fn_sig_profile = pd.DataFrame(signatures_false_negatives_sig_profile).groupby('signature_false_negatives_sig_profile').count().reset_index()\n",
    "grouped_fp_sig_profile = pd.DataFrame(signatures_false_positives_sig_profile).groupby('signature_false_positives_sig_profile').count().reset_index()\n",
    "\n",
    "grouped_fn_signal = pd.DataFrame(signatures_false_negatives_signal).groupby('signature_false_negatives_signal').count().reset_index()\n",
    "grouped_fp_signal = pd.DataFrame(signatures_false_positives_signal).groupby('signature_false_positives_signal').count().reset_index()"
   ]
  },
  {
   "cell_type": "code",
   "execution_count": 80,
   "id": "637abf17-4f2c-4606-893c-b9720e563074",
   "metadata": {},
   "outputs": [
    {
     "data": {
      "text/plain": [
       "(660, 74, 2060)"
      ]
     },
     "execution_count": 80,
     "metadata": {},
     "output_type": "execute_result"
    }
   ],
   "source": [
    "grouped_fn_our['Count'].sum(), grouped_fn_sig_profile['Count'].sum(), grouped_fn_signal['Count'].sum()\n",
    "#sygnatura była istotna, a nie jest wykryta"
   ]
  },
  {
   "cell_type": "code",
   "execution_count": 81,
   "id": "547ab187-f8a7-4903-a94e-ec5aa1dfc90c",
   "metadata": {},
   "outputs": [
    {
     "data": {
      "text/plain": [
       "(108, 73, 128)"
      ]
     },
     "execution_count": 81,
     "metadata": {},
     "output_type": "execute_result"
    }
   ],
   "source": [
    "grouped_fp_our['Count'].sum(), grouped_fp_sig_profile['Count'].sum(), grouped_fp_signal['Count'].sum()\n",
    "#sygnatura nie była istotna, a jest wykryta"
   ]
  },
  {
   "cell_type": "code",
   "execution_count": 82,
   "id": "7866b3fe-ec8f-44fd-862c-126db1e3c6cf",
   "metadata": {},
   "outputs": [],
   "source": [
    "combined_df_fn = pd.merge(grouped_fn_our, grouped_fn_sig_profile, left_on='signature_false_negatives_our', right_on='signature_false_negatives_sig_profile', how='outer').fillna(0)\n",
    "combined_df_fn = pd.merge(combined_df_fn, grouped_fn_signal, left_on='signature_false_negatives_our', right_on='signature_false_negatives_signal', how='outer').fillna(0)"
   ]
  },
  {
   "cell_type": "code",
   "execution_count": 19,
   "id": "02c152bf-5e65-49ba-bfad-7a31cbe686ae",
   "metadata": {},
   "outputs": [],
   "source": [
    "indexes = ['SBS1', 'SBS2', 'SBS3', 'SBS4', 'SBS5', 'SBS6', 'SBS7a', 'SBS7b',\n",
    "           'SBS7c', 'SBS7d', 'SBS8', 'SBS9', 'SBS10a', 'SBS10b', 'SBS11', 'SBS12',\n",
    "           'SBS13', 'SBS14', 'SBS15', 'SBS16', 'SBS17a', 'SBS17b', 'SBS18',\n",
    "           'SBS19', 'SBS20', 'SBS21', 'SBS22', 'SBS23', 'SBS24', 'SBS25', 'SBS26',\n",
    "           'SBS27', 'SBS28', 'SBS29', 'SBS30', 'SBS31', 'SBS32', 'SBS33', 'SBS34',\n",
    "           'SBS35', 'SBS36', 'SBS37', 'SBS38', 'SBS39', 'SBS40', 'SBS41', 'SBS42',\n",
    "           'SBS43', 'SBS44', 'SBS45', 'SBS46', 'SBS47', 'SBS48', 'SBS49', 'SBS50',\n",
    "           'SBS51', 'SBS52', 'SBS53', 'SBS54', 'SBS55', 'SBS56', 'SBS57', 'SBS58',\n",
    "           'SBS59', 'SBS60', 'SBS84', 'SBS85']\n",
    "\n",
    "\n",
    "mapping = {index: name for index, name in enumerate(indexes)}\n"
   ]
  },
  {
   "cell_type": "code",
   "execution_count": 20,
   "id": "0612f910-fddf-49f4-aef8-dfbe5120e4cd",
   "metadata": {},
   "outputs": [],
   "source": [
    "grouped_fn_our['signatures_cat_our'] = grouped_fn_our['signature_false_negatives_our'].map(mapping)\n",
    "grouped_fn_signal['signatures_cat_signal'] = grouped_fn_signal['signature_false_negatives_signal'].map(mapping)\n",
    "grouped_fn_sig_profile['signatures_cat_sig_profile'] = grouped_fn_sig_profile['signature_false_negatives_sig_profile'].map(mapping)\n"
   ]
  },
  {
   "cell_type": "code",
   "execution_count": 21,
   "id": "29aff5ab-2547-4720-bb09-9dcc2a24f5d4",
   "metadata": {},
   "outputs": [
    {
     "data": {
      "image/png": "[encoded data removed]",
      "text/plain": [
       "<Figure size 1200x800 with 1 Axes>"
      ]
     },
     "metadata": {},
     "output_type": "display_data"
    }
   ],
   "source": [
    "import matplotlib.pyplot as plt\n",
    "\n",
    "# Twoje wcześniejsze ustawienia i dane\n",
    "fig, ax = plt.subplots(figsize=(12, 8))\n",
    "bar_width = 0.35\n",
    "\n",
    "# Rysowanie wykresów słupkowych\n",
    "bar1 = ax.bar(grouped_fn_our['signatures_cat_our'], grouped_fn_our['Count'], bar_width, label='Our Method with model selection')\n",
    "#bar2 = ax.bar(combined_df_fn['signature_false_negatives_sig_profile'] + bar_width/2, combined_df_fn['Count_y'], bar_width, label='Sig Profiler Assigment')\n",
    "bar3 = ax.bar(grouped_fn_signal['signatures_cat_signal'], grouped_fn_signal['Count'], bar_width, label='Signal')\n",
    "\n",
    "# Ustawienia etykiet i tytułu\n",
    "ax.set_xlabel('Signatures')\n",
    "ax.set_ylabel('False Negatives')\n",
    "ax.set_title('False Negatives per Signature for Two Methods')\n",
    "ax.legend()\n",
    "plt.xticks(rotation=45, ha='right')\n",
    "# Dodanie siatki i wyświetlenie wykresu\n",
    "plt.grid(axis='y', linestyle='--', alpha=0.7)\n",
    "plt.show()\n"
   ]
  },
  {
   "cell_type": "code",
   "execution_count": 22,
   "id": "6032e273-4d9b-4c2c-9310-5f76e41f8c81",
   "metadata": {},
   "outputs": [],
   "source": [
    "grouped_fp_our['signatures_cat_our'] = grouped_fp_our['signature_false_positives_our'].map(mapping)\n",
    "grouped_fp_signal['signatures_cat_signal'] = grouped_fp_signal['signature_false_positives_signal'].map(mapping)\n",
    "grouped_fp_sig_profile['signatures_cat_sig_profile'] = grouped_fp_sig_profile['signature_false_positives_sig_profile'].map(mapping)\n"
   ]
  },
  {
   "cell_type": "code",
   "execution_count": 23,
   "id": "9a22f03b-d19b-4c2e-a565-ed49735e0e86",
   "metadata": {},
   "outputs": [],
   "source": [
    "labels_for_plots = pd.read_csv('data/WGS_signatures__sigProfiler_SBS_signatures_2019_05_22.modified.csv', sep='\\t')"
   ]
  },
  {
   "cell_type": "code",
   "execution_count": 24,
   "id": "1788c0ac-b1da-4a78-a6bc-067d98580db1",
   "metadata": {},
   "outputs": [
    {
     "data": {
      "image/png": "[encoded data removed]",
      "text/plain": [
       "<Figure size 1200x800 with 1 Axes>"
      ]
     },
     "metadata": {},
     "output_type": "display_data"
    }
   ],
   "source": [
    "import matplotlib.pyplot as plt\n",
    "\n",
    "# Twoje wcześniejsze ustawienia i dane\n",
    "fig, ax = plt.subplots(figsize=(12, 8))\n",
    "bar_width = 0.35\n",
    "\n",
    "# Rysowanie wykresów słupkowych\n",
    "bar1 = ax.bar(grouped_fp_our['signatures_cat_our'], grouped_fp_our['Count'], bar_width, label='Our Method with model selection')\n",
    "bar2 = ax.bar(grouped_fp_sig_profile['signatures_cat_sig_profile'], grouped_fp_sig_profile['Count'], bar_width, label='Sig Profiler Assigment')\n",
    "#bar3 = ax.bar(combined_df_fp['signature_falsepositive_signal'] + bar_width/2, combined_df_fn['Count'], bar_width, label='Signal')\n",
    "\n",
    "# Ustawienia etykiet i tytułu\n",
    "ax.set_xlabel('Signatures')\n",
    "ax.set_ylabel('False Positives')\n",
    "ax.set_title('False Positives per Signature for Two Methods')\n",
    "ax.legend()\n",
    "plt.xticks(rotation=45, ha='right')\n",
    "\n",
    "# Dodanie siatki i wyświetlenie wykresu\n",
    "plt.grid(axis='y', linestyle='--', alpha=0.7)\n",
    "plt.show()\n"
   ]
  },
  {
   "cell_type": "code",
   "execution_count": 25,
   "id": "a06a13ea-45ad-4a52-9c38-b34c8004b6d7",
   "metadata": {},
   "outputs": [
    {
     "data": {
      "text/html": [
       "<div>\n",
       "<style scoped>\n",
       "    .dataframe tbody tr th:only-of-type {\n",
       "        vertical-align: middle;\n",
       "    }\n",
       "\n",
       "    .dataframe tbody tr th {\n",
       "        vertical-align: top;\n",
       "    }\n",
       "\n",
       "    .dataframe thead th {\n",
       "        text-align: right;\n",
       "    }\n",
       "</style>\n",
       "<table border=\"1\" class=\"dataframe\">\n",
       "  <thead>\n",
       "    <tr style=\"text-align: right;\">\n",
       "      <th></th>\n",
       "      <th>findSigExposures</th>\n",
       "      <th>best_columns</th>\n",
       "      <th>Sample Names</th>\n",
       "      <th>Cancer Types</th>\n",
       "    </tr>\n",
       "  </thead>\n",
       "  <tbody>\n",
       "    <tr>\n",
       "      <th>0</th>\n",
       "      <td>0.092256</td>\n",
       "      <td>0</td>\n",
       "      <td>SP95550</td>\n",
       "      <td>Uterus-AdenoCA</td>\n",
       "    </tr>\n",
       "    <tr>\n",
       "      <th>1</th>\n",
       "      <td>0.063790</td>\n",
       "      <td>1</td>\n",
       "      <td>SP95550</td>\n",
       "      <td>Uterus-AdenoCA</td>\n",
       "    </tr>\n",
       "    <tr>\n",
       "      <th>2</th>\n",
       "      <td>0.158236</td>\n",
       "      <td>4</td>\n",
       "      <td>SP95550</td>\n",
       "      <td>Uterus-AdenoCA</td>\n",
       "    </tr>\n",
       "    <tr>\n",
       "      <th>3</th>\n",
       "      <td>0.099229</td>\n",
       "      <td>16</td>\n",
       "      <td>SP95550</td>\n",
       "      <td>Uterus-AdenoCA</td>\n",
       "    </tr>\n",
       "    <tr>\n",
       "      <th>4</th>\n",
       "      <td>0.586489</td>\n",
       "      <td>44</td>\n",
       "      <td>SP95550</td>\n",
       "      <td>Uterus-AdenoCA</td>\n",
       "    </tr>\n",
       "    <tr>\n",
       "      <th>...</th>\n",
       "      <td>...</td>\n",
       "      <td>...</td>\n",
       "      <td>...</td>\n",
       "      <td>...</td>\n",
       "    </tr>\n",
       "    <tr>\n",
       "      <th>10431</th>\n",
       "      <td>0.100450</td>\n",
       "      <td>0</td>\n",
       "      <td>SP117655</td>\n",
       "      <td>Biliary-AdenoCA</td>\n",
       "    </tr>\n",
       "    <tr>\n",
       "      <th>10432</th>\n",
       "      <td>0.087002</td>\n",
       "      <td>1</td>\n",
       "      <td>SP117655</td>\n",
       "      <td>Biliary-AdenoCA</td>\n",
       "    </tr>\n",
       "    <tr>\n",
       "      <th>10433</th>\n",
       "      <td>0.122098</td>\n",
       "      <td>4</td>\n",
       "      <td>SP117655</td>\n",
       "      <td>Biliary-AdenoCA</td>\n",
       "    </tr>\n",
       "    <tr>\n",
       "      <th>10434</th>\n",
       "      <td>0.054098</td>\n",
       "      <td>16</td>\n",
       "      <td>SP117655</td>\n",
       "      <td>Biliary-AdenoCA</td>\n",
       "    </tr>\n",
       "    <tr>\n",
       "      <th>10435</th>\n",
       "      <td>0.636352</td>\n",
       "      <td>44</td>\n",
       "      <td>SP117655</td>\n",
       "      <td>Biliary-AdenoCA</td>\n",
       "    </tr>\n",
       "  </tbody>\n",
       "</table>\n",
       "<p>10436 rows × 4 columns</p>\n",
       "</div>"
      ],
      "text/plain": [
       "       findSigExposures  best_columns Sample Names     Cancer Types\n",
       "0              0.092256             0      SP95550   Uterus-AdenoCA\n",
       "1              0.063790             1      SP95550   Uterus-AdenoCA\n",
       "2              0.158236             4      SP95550   Uterus-AdenoCA\n",
       "3              0.099229            16      SP95550   Uterus-AdenoCA\n",
       "4              0.586489            44      SP95550   Uterus-AdenoCA\n",
       "...                 ...           ...          ...              ...\n",
       "10431          0.100450             0     SP117655  Biliary-AdenoCA\n",
       "10432          0.087002             1     SP117655  Biliary-AdenoCA\n",
       "10433          0.122098             4     SP117655  Biliary-AdenoCA\n",
       "10434          0.054098            16     SP117655  Biliary-AdenoCA\n",
       "10435          0.636352            44     SP117655  Biliary-AdenoCA\n",
       "\n",
       "[10436 rows x 4 columns]"
      ]
     },
     "execution_count": 25,
     "metadata": {},
     "output_type": "execute_result"
    }
   ],
   "source": [
    "ground_truth_df"
   ]
  },
  {
   "cell_type": "code",
   "execution_count": 26,
   "id": "58668a5c-f99d-4fe2-902d-e5d6471b6539",
   "metadata": {},
   "outputs": [
    {
     "name": "stdout",
     "output_type": "stream",
     "text": [
      "SP102485\n",
      "SP102591\n",
      "SP135444\n",
      "SP86775\n"
     ]
    }
   ],
   "source": [
    "import pandas as pd\n",
    "import numpy as np\n",
    "\n",
    "# Funkcja do tworzenia wektora dla danej grupy\n",
    "def create_vector(group):\n",
    "    vector = np.zeros(67)\n",
    "    for _, row in group.iterrows():\n",
    "        index = row['best_columns']\n",
    "        if index < 67:\n",
    "            vector[index] = row['findSigExposures']\n",
    "    return vector\n",
    "\n",
    "def spearman_correlation(x, y):\n",
    "    rx = np.argsort(np.argsort(x))\n",
    "    ry = np.argsort(np.argsort(y))  \n",
    "    return np.corrcoef(rx, ry)[0, 1]\n",
    "    \n",
    "\n",
    "# Grupowanie i tworzenie wektorów dla df1 i df2\n",
    "groups_df1 = ground_truth_df.groupby('Sample Names').apply(create_vector)\n",
    "groups_df2 = experiment_df.groupby('Sample Names').apply(create_vector)\n",
    "\n",
    "correlations_our = {}\n",
    "# Obliczanie korelacji dla każdej grupy\n",
    "for sample_name in groups_df1.index:\n",
    "    try:\n",
    "        correlation = np.corrcoef(groups_df1[sample_name], groups_df2[sample_name])[0, 1]\n",
    "        correlation_spearman = spearman_correlation(groups_df1[sample_name], groups_df2[sample_name])\n",
    "        correlations_our[sample_name] = correlation_spearman\n",
    "    except:\n",
    "        print(sample_name)\n",
    "correlations_df_our = pd.DataFrame(list(correlations_our.items()), columns=['Sample Names', 'Correlation'])"
   ]
  },
  {
   "cell_type": "code",
   "execution_count": 27,
   "id": "e40bbc85-03fb-4d3d-b86b-2c5dd14e2994",
   "metadata": {},
   "outputs": [],
   "source": [
    "# Grupowanie i tworzenie wektorów dla df1 i df2\n",
    "groups_df1 = ground_truth_df.groupby('Sample Names').apply(create_vector)\n",
    "groups_df2 = experiment_sig_profiler_df.groupby('Sample Names').apply(create_vector)\n",
    "\n",
    "correlations_sig_profile = {}\n",
    "# Obliczanie korelacji dla każdej grupy\n",
    "for sample_name in groups_df1.index:\n",
    "    try:\n",
    "        correlation = np.corrcoef(groups_df1[sample_name], groups_df2[sample_name])[0, 1]\n",
    "        correlation_spearman = spearman_correlation(groups_df1[sample_name], groups_df2[sample_name])\n",
    "        correlations_sig_profile[sample_name] = correlation_spearman\n",
    "    except:\n",
    "        print(sample_name)\n",
    "correlations_df_sig_profile = pd.DataFrame(list(correlations_sig_profile.items()), columns=['Sample Names', 'Correlation'])"
   ]
  },
  {
   "cell_type": "code",
   "execution_count": 28,
   "id": "a9d7c78d-c089-4f52-8667-cef04929261c",
   "metadata": {},
   "outputs": [],
   "source": [
    "# Grupowanie i tworzenie wektorów dla df1 i df2\n",
    "groups_df1 = ground_truth_df.groupby('Sample Names').apply(create_vector)\n",
    "groups_df2 = experiment_signal_df.groupby('Sample Names').apply(create_vector)\n",
    "\n",
    "correlations_signal = {}\n",
    "# Obliczanie korelacji dla każdej grupy\n",
    "for sample_name in groups_df1.index:\n",
    "    try:\n",
    "        correlation = np.corrcoef(groups_df1[sample_name], groups_df2[sample_name])[0, 1]\n",
    "        correlation_spearman = spearman_correlation(groups_df1[sample_name], groups_df2[sample_name])\n",
    "        correlations_signal[sample_name] = correlation_spearman\n",
    "    except:\n",
    "        print(sample_name)\n",
    "correlations_df_signal = pd.DataFrame(list(correlations_signal.items()), columns=['Sample Names', 'Correlation'])"
   ]
  },
  {
   "cell_type": "code",
   "execution_count": 29,
   "id": "994575c1-c6e0-49c3-b07d-1387a8e1e82f",
   "metadata": {},
   "outputs": [
    {
     "data": {
      "text/plain": [
       "(0.9964141924911419, 0.9790078927325585, 0.9706449185235866)"
      ]
     },
     "execution_count": 29,
     "metadata": {},
     "output_type": "execute_result"
    }
   ],
   "source": [
    "correlations_df_our['Correlation'].mean(), correlations_df_sig_profile['Correlation'].mean(), correlations_df_signal['Correlation'].mean()"
   ]
  },
  {
   "cell_type": "code",
   "execution_count": 30,
   "id": "5eddc24c-090f-4b91-bee5-7061260e1c7e",
   "metadata": {},
   "outputs": [
    {
     "ename": "FileNotFoundError",
     "evalue": "data/benchmark_1/count_syntetic2.csv not found.",
     "output_type": "error",
     "traceback": [
      "\u001b[0;31m---------------------------------------------------------------------------\u001b[0m",
      "\u001b[0;31mFileNotFoundError\u001b[0m                         Traceback (most recent call last)",
      "Cell \u001b[0;32mIn[30], line 8\u001b[0m\n\u001b[1;32m      5\u001b[0m \u001b[38;5;28;01mimport\u001b[39;00m \u001b[38;5;21;01mnumpy\u001b[39;00m \u001b[38;5;28;01mas\u001b[39;00m \u001b[38;5;21;01mnp\u001b[39;00m\n\u001b[1;32m      6\u001b[0m \u001b[38;5;28;01mfrom\u001b[39;00m \u001b[38;5;21;01mutils\u001b[39;00m \u001b[38;5;28;01mimport\u001b[39;00m save_to_dataframe\n\u001b[0;32m----> 8\u001b[0m tumorBRCA \u001b[38;5;241m=\u001b[39m \u001b[43mnp\u001b[49m\u001b[38;5;241;43m.\u001b[39;49m\u001b[43mgenfromtxt\u001b[49m\u001b[43m(\u001b[49m\u001b[38;5;124;43m'\u001b[39;49m\u001b[38;5;124;43mdata/benchmark_1/count_syntetic2.csv\u001b[39;49m\u001b[38;5;124;43m'\u001b[39;49m\u001b[43m,\u001b[49m\u001b[43m \u001b[49m\u001b[43mdelimiter\u001b[49m\u001b[38;5;241;43m=\u001b[39;49m\u001b[38;5;124;43m'\u001b[39;49m\u001b[38;5;130;43;01m\\t\u001b[39;49;00m\u001b[38;5;124;43m'\u001b[39;49m\u001b[43m,\u001b[49m\u001b[43m \u001b[49m\u001b[43mskip_header\u001b[49m\u001b[38;5;241;43m=\u001b[39;49m\u001b[38;5;241;43m1\u001b[39;49m\u001b[43m)\u001b[49m\n\u001b[1;32m      9\u001b[0m tumorBRCA \u001b[38;5;241m=\u001b[39m np\u001b[38;5;241m.\u001b[39mdelete(tumorBRCA, \u001b[38;5;241m0\u001b[39m, axis\u001b[38;5;241m=\u001b[39m\u001b[38;5;241m1\u001b[39m)\n\u001b[1;32m     11\u001b[0m df \u001b[38;5;241m=\u001b[39m pd\u001b[38;5;241m.\u001b[39mread_csv(\u001b[38;5;124m'\u001b[39m\u001b[38;5;124mdata/benchmark_1/WGS-decomposition__PCAWG_sigProfiler_SBS_signatures_in_samples.csv\u001b[39m\u001b[38;5;124m'\u001b[39m)\n",
      "File \u001b[0;32m~/.local/lib/python3.10/site-packages/numpy/lib/npyio.py:1980\u001b[0m, in \u001b[0;36mgenfromtxt\u001b[0;34m(fname, dtype, comments, delimiter, skip_header, skip_footer, converters, missing_values, filling_values, usecols, names, excludelist, deletechars, replace_space, autostrip, case_sensitive, defaultfmt, unpack, usemask, loose, invalid_raise, max_rows, encoding, ndmin, like)\u001b[0m\n\u001b[1;32m   1978\u001b[0m     fname \u001b[38;5;241m=\u001b[39m os_fspath(fname)\n\u001b[1;32m   1979\u001b[0m \u001b[38;5;28;01mif\u001b[39;00m \u001b[38;5;28misinstance\u001b[39m(fname, \u001b[38;5;28mstr\u001b[39m):\n\u001b[0;32m-> 1980\u001b[0m     fid \u001b[38;5;241m=\u001b[39m \u001b[43mnp\u001b[49m\u001b[38;5;241;43m.\u001b[39;49m\u001b[43mlib\u001b[49m\u001b[38;5;241;43m.\u001b[39;49m\u001b[43m_datasource\u001b[49m\u001b[38;5;241;43m.\u001b[39;49m\u001b[43mopen\u001b[49m\u001b[43m(\u001b[49m\u001b[43mfname\u001b[49m\u001b[43m,\u001b[49m\u001b[43m \u001b[49m\u001b[38;5;124;43m'\u001b[39;49m\u001b[38;5;124;43mrt\u001b[39;49m\u001b[38;5;124;43m'\u001b[39;49m\u001b[43m,\u001b[49m\u001b[43m \u001b[49m\u001b[43mencoding\u001b[49m\u001b[38;5;241;43m=\u001b[39;49m\u001b[43mencoding\u001b[49m\u001b[43m)\u001b[49m\n\u001b[1;32m   1981\u001b[0m     fid_ctx \u001b[38;5;241m=\u001b[39m contextlib\u001b[38;5;241m.\u001b[39mclosing(fid)\n\u001b[1;32m   1982\u001b[0m \u001b[38;5;28;01melse\u001b[39;00m:\n",
      "File \u001b[0;32m~/.local/lib/python3.10/site-packages/numpy/lib/_datasource.py:193\u001b[0m, in \u001b[0;36mopen\u001b[0;34m(path, mode, destpath, encoding, newline)\u001b[0m\n\u001b[1;32m    156\u001b[0m \u001b[38;5;250m\u001b[39m\u001b[38;5;124;03m\"\"\"\u001b[39;00m\n\u001b[1;32m    157\u001b[0m \u001b[38;5;124;03mOpen `path` with `mode` and return the file object.\u001b[39;00m\n\u001b[1;32m    158\u001b[0m \n\u001b[0;32m   (...)\u001b[0m\n\u001b[1;32m    189\u001b[0m \n\u001b[1;32m    190\u001b[0m \u001b[38;5;124;03m\"\"\"\u001b[39;00m\n\u001b[1;32m    192\u001b[0m ds \u001b[38;5;241m=\u001b[39m DataSource(destpath)\n\u001b[0;32m--> 193\u001b[0m \u001b[38;5;28;01mreturn\u001b[39;00m \u001b[43mds\u001b[49m\u001b[38;5;241;43m.\u001b[39;49m\u001b[43mopen\u001b[49m\u001b[43m(\u001b[49m\u001b[43mpath\u001b[49m\u001b[43m,\u001b[49m\u001b[43m \u001b[49m\u001b[43mmode\u001b[49m\u001b[43m,\u001b[49m\u001b[43m \u001b[49m\u001b[43mencoding\u001b[49m\u001b[38;5;241;43m=\u001b[39;49m\u001b[43mencoding\u001b[49m\u001b[43m,\u001b[49m\u001b[43m \u001b[49m\u001b[43mnewline\u001b[49m\u001b[38;5;241;43m=\u001b[39;49m\u001b[43mnewline\u001b[49m\u001b[43m)\u001b[49m\n",
      "File \u001b[0;32m~/.local/lib/python3.10/site-packages/numpy/lib/_datasource.py:533\u001b[0m, in \u001b[0;36mDataSource.open\u001b[0;34m(self, path, mode, encoding, newline)\u001b[0m\n\u001b[1;32m    530\u001b[0m     \u001b[38;5;28;01mreturn\u001b[39;00m _file_openers[ext](found, mode\u001b[38;5;241m=\u001b[39mmode,\n\u001b[1;32m    531\u001b[0m                               encoding\u001b[38;5;241m=\u001b[39mencoding, newline\u001b[38;5;241m=\u001b[39mnewline)\n\u001b[1;32m    532\u001b[0m \u001b[38;5;28;01melse\u001b[39;00m:\n\u001b[0;32m--> 533\u001b[0m     \u001b[38;5;28;01mraise\u001b[39;00m \u001b[38;5;167;01mFileNotFoundError\u001b[39;00m(\u001b[38;5;124mf\u001b[39m\u001b[38;5;124m\"\u001b[39m\u001b[38;5;132;01m{\u001b[39;00mpath\u001b[38;5;132;01m}\u001b[39;00m\u001b[38;5;124m not found.\u001b[39m\u001b[38;5;124m\"\u001b[39m)\n",
      "\u001b[0;31mFileNotFoundError\u001b[0m: data/benchmark_1/count_syntetic2.csv not found."
     ]
    }
   ],
   "source": [
    "import pandas as pd \n",
    "\n",
    "\n",
    "\n",
    "import numpy as np\n",
    "from utils import save_to_dataframe\n",
    "\n",
    "tumorBRCA = np.genfromtxt('data/benchmark_1/count_syntetic2.csv', delimiter='\\t', skip_header=1)\n",
    "tumorBRCA = np.delete(tumorBRCA, 0, axis=1)\n",
    "\n",
    "df = pd.read_csv('data/benchmark_1/WGS-decomposition__PCAWG_sigProfiler_SBS_signatures_in_samples.csv')\n",
    "SigProfilerAssignment = pd.read_csv('output/Assignment_Solution/Activities/Assignment_Solution_Activities.txt',sep='\\t')\n",
    "\n",
    "\n",
    "ground_truth = SigProfilerAssignment.drop(columns=['Samples'])\n",
    "\n",
    "ground_truth.columns = [x for x in range(0, 67)]\n",
    "ground_truth_df = pd.DataFrame()\n",
    "\n",
    "for i in range(tumorBRCA.shape[1]):\n",
    "    first_col = tumorBRCA[:, i]\n",
    "    patient = ground_truth.iloc[i]\n",
    "    patient = patient / patient.sum()\n",
    "\n",
    "    non_zero_condition = (patient != 0)\n",
    "    indexes = non_zero_condition[non_zero_condition].index.tolist()\n",
    "\n",
    "    r = save_to_dataframe(indexes, patient[indexes].to_numpy(), SigProfilerAssignment.iloc[i]['Samples'], df.iloc[i]['Cancer Types'])\n",
    "    ground_truth_df = pd.concat([r, ground_truth_df], ignore_index=True)\n",
    "\n",
    "\n",
    "ground_truth_df.to_csv('experiment_sig_profiles.csv')"
   ]
  },
  {
   "cell_type": "code",
   "execution_count": null,
   "id": "e0b5a05f-7e59-4cef-9d31-0a8c96d47cbd",
   "metadata": {},
   "outputs": [],
   "source": [
    "SigProfilerAssignment"
   ]
  },
  {
   "cell_type": "code",
   "execution_count": null,
   "id": "7e0969a8-8207-4a6e-af06-ba841b311c55",
   "metadata": {},
   "outputs": [],
   "source": [
    "pd.read_csv('output/signal.exposures.csv',sep=',')"
   ]
  },
  {
   "cell_type": "code",
   "execution_count": null,
   "id": "5ced7307-e95e-4bf6-b62f-2c1bf007e0d6",
   "metadata": {},
   "outputs": [],
   "source": [
    "import pandas as pd \n",
    "\n",
    "\n",
    "\n",
    "import numpy as npdata/\n",
    "from utils import save_to_dataframe\n",
    "\n",
    "tumorBRCA = np.genfromtxt('data/benchmark_1/count_syntetic2.csv', delimiter='\\t', skip_header=1)\n",
    "tumorBRCA = np.delete(tumorBRCA, 0, axis=1)\n",
    "\n",
    "df = pd.read_csv('data/benchmark_1/WGS-decomposition__PCAWG_sigProfiler_SBS_signatures_in_samples.csv')\n",
    "signalAssignment = pd.read_csv('output/signal.exposures.csv',sep=',')\n",
    "\n",
    "\n",
    "ground_truth = signalAssignment.drop(columns=['Samples', 'unassigned'])\n",
    "\n",
    "ground_truth.columns = [x for x in range(0, 67)]\n",
    "ground_truth_df = pd.DataFrame()\n",
    "\n",
    "for i in range(tumorBRCA.shape[1]):\n",
    "    first_col = tumorBRCA[:, i]\n",
    "    patient = ground_truth.iloc[i]\n",
    "    patient = patient / patient.sum()\n",
    "\n",
    "    non_zero_condition = (patient != 0)\n",
    "    indexes = non_zero_condition[non_zero_condition].index.tolist()\n",
    "\n",
    "    r = save_to_dataframe(indexes, patient[indexes].to_numpy(), signalAssignment.iloc[i]['Samples'], df.iloc[i]['Cancer Types'])\n",
    "    ground_truth_df = pd.concat([r, ground_truth_df], ignore_index=True)\n",
    "\n",
    "\n",
    "ground_truth_df.to_csv('experiment_signal.csv')"
   ]
  },
  {
   "cell_type": "code",
   "execution_count": null,
   "id": "84e5dc9d-4dae-4962-8213-2eaa5a8c8e21",
   "metadata": {},
   "outputs": [],
   "source": []
  }
 ],
 "metadata": {
  "kernelspec": {
   "display_name": "Python 3 (ipykernel)",
   "language": "python",
   "name": "python3"
  },
  "language_info": {
   "codemirror_mode": {
    "name": "ipython",
    "version": 3
   },
   "file_extension": ".py",
   "mimetype": "text/x-python",
   "name": "python",
   "nbconvert_exporter": "python",
   "pygments_lexer": "ipython3",
   "version": "3.10.12"
  }
 },
 "nbformat": 4,
 "nbformat_minor": 5
}
